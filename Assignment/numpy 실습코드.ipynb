{
 "cells": [
  {
   "cell_type": "code",
   "execution_count": 13,
   "metadata": {},
   "outputs": [],
   "source": [
    "# numpy library import\n",
    "import numpy as np"
   ]
  },
  {
   "cell_type": "code",
   "execution_count": 14,
   "metadata": {},
   "outputs": [
    {
     "name": "stdout",
     "output_type": "stream",
     "text": [
      "[1, 2, 3, 4, 5, 6]\n"
     ]
    }
   ],
   "source": [
    "# data1 => list data type\n",
    "data1 = [1,2,3,4,5,6]\n",
    "print(data1)"
   ]
  },
  {
   "cell_type": "code",
   "execution_count": 20,
   "metadata": {},
   "outputs": [
    {
     "name": "stdout",
     "output_type": "stream",
     "text": [
      "[1 2 3 4 5 6]\n",
      "<class 'numpy.ndarray'>\n",
      "int32\n",
      "(6,)\n",
      "1\n",
      "3\n",
      "bool\n"
     ]
    }
   ],
   "source": [
    "# numpy를 이용하여 array 정의하기\n",
    "arr1 = np.array((1,2,3,4,5,6))\n",
    "print (arr1)\n",
    "# arr1의 data type : ndarray\n",
    "print (type(arr1))\n",
    "# array의 원소의 자료형(data type)을 확인할 수 있다.\n",
    "print (arr1.dtype)\n",
    "\n",
    "# array의 형태(크기)를 확인할 수 있다.\n",
    "print (arr1.shape)\n",
    "\n",
    "# arr1의 첫번째 원소값 출력하기\n",
    "print (arr1[0])\n",
    "# arr1의 세번째 원소값 출력하기\n",
    "print (arr1[2])\n",
    "\n",
    "# 원소가 boolean data type인 array 생성\n",
    "arr10= np.array([True, True, False, False, False])\n",
    "print (arr10.dtype)"
   ]
  },
  {
   "cell_type": "code",
   "execution_count": 22,
   "metadata": {},
   "outputs": [
    {
     "name": "stdout",
     "output_type": "stream",
     "text": [
      "[[1 2 3]\n",
      " [4 5 6]]\n",
      "int32\n",
      "(2, 3)\n"
     ]
    }
   ],
   "source": [
    "# arr1의 배열  크기를 2차원 배열인 (2,3) 으로 변경하기\n",
    "arr2 = arr1.reshape(2,3)\n",
    "print (arr2)\n",
    "# array의 자료형을 확인할 수 있다.\n",
    "print (arr2.dtype)\n",
    "# array의 형태(크기)를 확인할 수 있다.\n",
    "print (arr2.shape)"
   ]
  },
  {
   "cell_type": "code",
   "execution_count": 24,
   "metadata": {},
   "outputs": [
    {
     "name": "stdout",
     "output_type": "stream",
     "text": [
      "[ 0  1  2  3  4  5  6  7  8  9 10 11 12 13 14]\n",
      "[[ 0  1  2  3  4]\n",
      " [ 5  6  7  8  9]\n",
      " [10 11 12 13 14]]\n"
     ]
    }
   ],
   "source": [
    "print(np.arange(15))\n",
    "a = np.arange(15).reshape(3, 5)\n",
    "print(a)"
   ]
  },
  {
   "cell_type": "code",
   "execution_count": 25,
   "metadata": {},
   "outputs": [
    {
     "data": {
      "text/plain": [
       "array([[ 0,  5, 10],\n",
       "       [ 1,  6, 11],\n",
       "       [ 2,  7, 12],\n",
       "       [ 3,  8, 13],\n",
       "       [ 4,  9, 14]])"
      ]
     },
     "execution_count": 25,
     "metadata": {},
     "output_type": "execute_result"
    }
   ],
   "source": [
    "a.T"
   ]
  },
  {
   "cell_type": "code",
   "execution_count": 26,
   "metadata": {},
   "outputs": [
    {
     "data": {
      "text/plain": [
       "array([[ 0,  5, 10],\n",
       "       [ 1,  6, 11],\n",
       "       [ 2,  7, 12],\n",
       "       [ 3,  8, 13],\n",
       "       [ 4,  9, 14]])"
      ]
     },
     "execution_count": 26,
     "metadata": {},
     "output_type": "execute_result"
    }
   ],
   "source": [
    "np.transpose(a)"
   ]
  },
  {
   "cell_type": "code",
   "execution_count": 27,
   "metadata": {},
   "outputs": [
    {
     "data": {
      "text/plain": [
       "array([[ 0,  5, 10],\n",
       "       [ 1,  6, 11],\n",
       "       [ 2,  7, 12],\n",
       "       [ 3,  8, 13],\n",
       "       [ 4,  9, 14]])"
      ]
     },
     "execution_count": 27,
     "metadata": {},
     "output_type": "execute_result"
    }
   ],
   "source": [
    "np.swapaxes(a, 0, 1)"
   ]
  },
  {
   "cell_type": "code",
   "execution_count": 28,
   "metadata": {},
   "outputs": [
    {
     "name": "stdout",
     "output_type": "stream",
     "text": [
      "[0. 0. 0. 0. 0. 0. 0. 0. 0. 0.]\n",
      "[[0. 0. 0. 0. 0.]\n",
      " [0. 0. 0. 0. 0.]\n",
      " [0. 0. 0. 0. 0.]]\n"
     ]
    }
   ],
   "source": [
    "print (np.zeros(10))\n",
    "print (np.zeros((3,5)))"
   ]
  },
  {
   "cell_type": "code",
   "execution_count": 29,
   "metadata": {},
   "outputs": [
    {
     "name": "stdout",
     "output_type": "stream",
     "text": [
      "[1. 1. 1. 1. 1. 1. 1. 1. 1. 1.]\n",
      "[[1. 1. 1. 1. 1.]\n",
      " [1. 1. 1. 1. 1.]\n",
      " [1. 1. 1. 1. 1.]]\n"
     ]
    }
   ],
   "source": [
    "print (np.ones(10))\n",
    "print (np.ones((3,5)))"
   ]
  },
  {
   "cell_type": "code",
   "execution_count": 30,
   "metadata": {},
   "outputs": [
    {
     "name": "stdout",
     "output_type": "stream",
     "text": [
      "[0 1 2 3 4 5 6 7 8 9]\n",
      "[3 4 5 6 7 8 9]\n",
      "[3 5 7 9]\n"
     ]
    }
   ],
   "source": [
    "print (np.arange(10))\n",
    "print (np.arange(3,10))\n",
    "print (np.arange(3,10, 2))"
   ]
  },
  {
   "cell_type": "code",
   "execution_count": 31,
   "metadata": {},
   "outputs": [
    {
     "name": "stdout",
     "output_type": "stream",
     "text": [
      "[[1 2 3]\n",
      " [4 5 6]]\n",
      "(2, 3)\n",
      "[[10 11 12]\n",
      " [13 14 15]]\n",
      "(2, 3)\n"
     ]
    }
   ],
   "source": [
    "arr1 = np.array([[1,2,3],[4,5,6]])\n",
    "print (arr1)\n",
    "print (arr1.shape)\n",
    "arr2 = np.array([[10,11,12],[13,14,15]])\n",
    "print (arr2)\n",
    "print (arr2.shape)"
   ]
  },
  {
   "cell_type": "code",
   "execution_count": 25,
   "metadata": {},
   "outputs": [
    {
     "data": {
      "text/plain": [
       "array([[11, 13, 15],\n",
       "       [17, 19, 21]])"
      ]
     },
     "execution_count": 25,
     "metadata": {},
     "output_type": "execute_result"
    }
   ],
   "source": [
    "arr1 + arr2"
   ]
  },
  {
   "cell_type": "code",
   "execution_count": 26,
   "metadata": {},
   "outputs": [
    {
     "data": {
      "text/plain": [
       "array([[-9, -9, -9],\n",
       "       [-9, -9, -9]])"
      ]
     },
     "execution_count": 26,
     "metadata": {},
     "output_type": "execute_result"
    }
   ],
   "source": [
    "arr1 - arr2"
   ]
  },
  {
   "cell_type": "code",
   "execution_count": 27,
   "metadata": {},
   "outputs": [
    {
     "data": {
      "text/plain": [
       "array([[10, 22, 36],\n",
       "       [52, 70, 90]])"
      ]
     },
     "execution_count": 27,
     "metadata": {},
     "output_type": "execute_result"
    }
   ],
   "source": [
    "arr1 * arr2"
   ]
  },
  {
   "cell_type": "code",
   "execution_count": 28,
   "metadata": {},
   "outputs": [
    {
     "data": {
      "text/plain": [
       "array([[0.1       , 0.18181818, 0.25      ],\n",
       "       [0.30769231, 0.35714286, 0.4       ]])"
      ]
     },
     "execution_count": 28,
     "metadata": {},
     "output_type": "execute_result"
    }
   ],
   "source": [
    "arr1 / arr2"
   ]
  },
  {
   "cell_type": "code",
   "execution_count": 30,
   "metadata": {},
   "outputs": [
    {
     "name": "stdout",
     "output_type": "stream",
     "text": [
      "[10 11 12]\n",
      "(3,)\n"
     ]
    }
   ],
   "source": [
    "arr3 = np.array([10,11,12])\n",
    "print (arr3)\n",
    "print (arr3.shape)"
   ]
  },
  {
   "cell_type": "code",
   "execution_count": 33,
   "metadata": {},
   "outputs": [
    {
     "data": {
      "text/plain": [
       "array([[10, 22, 36],\n",
       "       [40, 55, 72]])"
      ]
     },
     "execution_count": 33,
     "metadata": {},
     "output_type": "execute_result"
    }
   ],
   "source": [
    "arr1 * arr3"
   ]
  },
  {
   "cell_type": "code",
   "execution_count": 31,
   "metadata": {},
   "outputs": [
    {
     "data": {
      "text/plain": [
       "array([[11, 13, 15],\n",
       "       [14, 16, 18]])"
      ]
     },
     "execution_count": 31,
     "metadata": {},
     "output_type": "execute_result"
    }
   ],
   "source": [
    "arr1 + arr3"
   ]
  },
  {
   "cell_type": "code",
   "execution_count": 40,
   "metadata": {},
   "outputs": [
    {
     "data": {
      "text/plain": [
       "array([5, 6, 7])"
      ]
     },
     "execution_count": 40,
     "metadata": {},
     "output_type": "execute_result"
    }
   ],
   "source": [
    "# broadcasting 예제\n",
    "np.arange(3) + 5"
   ]
  },
  {
   "cell_type": "code",
   "execution_count": 32,
   "metadata": {},
   "outputs": [
    {
     "data": {
      "text/plain": [
       "array([[10, 20, 30],\n",
       "       [40, 50, 60]])"
      ]
     },
     "execution_count": 32,
     "metadata": {},
     "output_type": "execute_result"
    }
   ],
   "source": [
    "# arr1 = (2,3)\n",
    "arr1 * 10"
   ]
  },
  {
   "cell_type": "code",
   "execution_count": 41,
   "metadata": {},
   "outputs": [
    {
     "data": {
      "text/plain": [
       "array([[ 1,  4,  9],\n",
       "       [16, 25, 36]], dtype=int32)"
      ]
     },
     "execution_count": 41,
     "metadata": {},
     "output_type": "execute_result"
    }
   ],
   "source": [
    "arr1 ** 2"
   ]
  },
  {
   "cell_type": "code",
   "execution_count": 38,
   "metadata": {},
   "outputs": [
    {
     "data": {
      "text/plain": [
       "array([[1., 2., 3.],\n",
       "       [1., 2., 3.],\n",
       "       [1., 2., 3.]])"
      ]
     },
     "execution_count": 38,
     "metadata": {},
     "output_type": "execute_result"
    }
   ],
   "source": [
    "np.ones((3,3)) + np.arange(3)"
   ]
  },
  {
   "cell_type": "code",
   "execution_count": 42,
   "metadata": {},
   "outputs": [
    {
     "data": {
      "text/plain": [
       "array([[0, 1, 2],\n",
       "       [1, 2, 3],\n",
       "       [2, 3, 4]])"
      ]
     },
     "execution_count": 42,
     "metadata": {},
     "output_type": "execute_result"
    }
   ],
   "source": [
    "np.arange(3).reshape(3,1) + np.arange(3)"
   ]
  },
  {
   "cell_type": "code",
   "execution_count": 45,
   "metadata": {},
   "outputs": [
    {
     "ename": "ValueError",
     "evalue": "operands could not be broadcast together with shapes (3,) (2,) ",
     "output_type": "error",
     "traceback": [
      "\u001b[1;31m---------------------------------------------------------------------------\u001b[0m",
      "\u001b[1;31mValueError\u001b[0m                                Traceback (most recent call last)",
      "\u001b[1;32m<ipython-input-45-3e7def22cbde>\u001b[0m in \u001b[0;36m<module>\u001b[1;34m\u001b[0m\n\u001b[0;32m      1\u001b[0m \u001b[0ma\u001b[0m \u001b[1;33m=\u001b[0m \u001b[0mnp\u001b[0m\u001b[1;33m.\u001b[0m\u001b[0marray\u001b[0m\u001b[1;33m(\u001b[0m\u001b[1;33m[\u001b[0m\u001b[1;36m1\u001b[0m\u001b[1;33m,\u001b[0m\u001b[1;36m2\u001b[0m\u001b[1;33m,\u001b[0m\u001b[1;36m3\u001b[0m\u001b[1;33m]\u001b[0m\u001b[1;33m)\u001b[0m\u001b[1;33m\u001b[0m\u001b[1;33m\u001b[0m\u001b[0m\n\u001b[0;32m      2\u001b[0m \u001b[0mb\u001b[0m \u001b[1;33m=\u001b[0m \u001b[0mnp\u001b[0m\u001b[1;33m.\u001b[0m\u001b[0marray\u001b[0m\u001b[1;33m(\u001b[0m\u001b[1;33m[\u001b[0m\u001b[1;36m1\u001b[0m\u001b[1;33m,\u001b[0m\u001b[1;36m2\u001b[0m\u001b[1;33m]\u001b[0m\u001b[1;33m)\u001b[0m\u001b[1;33m\u001b[0m\u001b[1;33m\u001b[0m\u001b[0m\n\u001b[1;32m----> 3\u001b[1;33m \u001b[0ma\u001b[0m\u001b[1;33m+\u001b[0m\u001b[0mb\u001b[0m\u001b[1;33m\u001b[0m\u001b[1;33m\u001b[0m\u001b[0m\n\u001b[0m",
      "\u001b[1;31mValueError\u001b[0m: operands could not be broadcast together with shapes (3,) (2,) "
     ]
    }
   ],
   "source": [
    "a = np.array([1,2,3])\n",
    "b = np.array([1,2])\n",
    "a+b"
   ]
  },
  {
   "cell_type": "code",
   "execution_count": 46,
   "metadata": {},
   "outputs": [
    {
     "name": "stdout",
     "output_type": "stream",
     "text": [
      "[0 1 2 3 4 5 6 7 8 9]\n",
      "0\n",
      "3\n",
      "[3 4 5 6 7 8]\n",
      "[0 1 2 3 4 5 6 7 8 9]\n",
      "[0 1 2 3 4 5 6 7 8 9]\n"
     ]
    }
   ],
   "source": [
    "a1 = np.arange(10)\n",
    "print(a1)\n",
    "# 첫번째 element 출력\n",
    "print(a1[0])\n",
    "# 네번째 element 출력\n",
    "print(a1[3])\n",
    "# 네번째 ~ 9번째 element 출력\n",
    "print(a1[3:9])\n",
    "print(a1[:])\n",
    "print(a1[::])"
   ]
  },
  {
   "cell_type": "code",
   "execution_count": 38,
   "metadata": {},
   "outputs": [
    {
     "name": "stdout",
     "output_type": "stream",
     "text": [
      "[[ 1  2  3  4]\n",
      " [ 5  6  7  8]\n",
      " [ 9 10 11 12]]\n",
      "1\n",
      "[ 9 10 11 12]\n",
      "12\n",
      "[ 4  8 12]\n"
     ]
    }
   ],
   "source": [
    "a2 = np.array([[1,2,3,4],\n",
    "               [5,6,7,8],\n",
    "               [9,10,11,12]])\n",
    "print(a2)\n",
    "# 2차원의 array에서 인덱싱을 하기 위해선 2개의 인자를 입력해야 합니다.\n",
    "print(a2[0,0])\n",
    "# 2행의 모든 element 출력\n",
    "print(a2[2,:])\n",
    "# 2행의 4번째 element 출력\n",
    "print(a2[2,3])\n",
    "# 모든 열의 4번째 element 출력\n",
    "print(a2[:,3])"
   ]
  },
  {
   "cell_type": "code",
   "execution_count": 47,
   "metadata": {},
   "outputs": [
    {
     "name": "stdout",
     "output_type": "stream",
     "text": [
      "['Beomwoo' 'Beomwoo' 'Kim' 'Joan' 'Lee' 'Beomwoo' 'Park' 'Beomwoo']\n",
      "(8,)\n"
     ]
    }
   ],
   "source": [
    "names = np.array(['Beomwoo','Beomwoo','Kim','Joan','Lee','Beomwoo','Park','Beomwoo'])\n",
    "print(names)\n",
    "print(names.shape)"
   ]
  },
  {
   "cell_type": "code",
   "execution_count": 50,
   "metadata": {},
   "outputs": [
    {
     "name": "stdout",
     "output_type": "stream",
     "text": [
      "[[ 1.10624979 -1.30889768 -0.73395624  0.03050751]\n",
      " [-0.95151086 -0.64221062 -0.56619541  0.97785195]\n",
      " [-1.39531292 -0.2102204  -1.02207432 -0.36547921]\n",
      " [ 0.43826673 -1.11312098 -0.58650134  0.51299541]\n",
      " [-0.83645732  0.40208761  0.25064533  1.64160146]\n",
      " [ 0.70514988  1.87712526 -0.48825558 -1.18825168]\n",
      " [ 1.05546947  1.39208555 -0.175478   -0.07499263]\n",
      " [ 0.43583543  0.37458438  2.11781537 -1.11505998]]\n",
      "(8, 4)\n"
     ]
    }
   ],
   "source": [
    "# np.random.randn() 함수 : 기대값(평균값)이 0이고, 표준편차가 1인 가우시안 정규 분포를 따르는 난수를 발생시키는 함수이다.\n",
    "# 이 외에도 0~1의 난수를 발생시키는 np.random.rand() 함수도 존재한다.\n",
    "data = np.random.randn(8,4)\n",
    "print(data)\n",
    "print(data.shape)"
   ]
  },
  {
   "cell_type": "code",
   "execution_count": 51,
   "metadata": {},
   "outputs": [
    {
     "name": "stdout",
     "output_type": "stream",
     "text": [
      "[ True  True False False False  True False  True]\n",
      "[[ 1.10624979 -1.30889768 -0.73395624  0.03050751]\n",
      " [-0.95151086 -0.64221062 -0.56619541  0.97785195]\n",
      " [ 0.70514988  1.87712526 -0.48825558 -1.18825168]\n",
      " [ 0.43583543  0.37458438  2.11781537 -1.11505998]]\n",
      "[[-1.39531292 -0.2102204  -1.02207432 -0.36547921]]\n",
      "[[-1.39531292 -0.2102204  -1.02207432 -0.36547921]\n",
      " [ 1.05546947  1.39208555 -0.175478   -0.07499263]]\n"
     ]
    }
   ],
   "source": [
    "# 요소가 Beomwoo인 항목에 대한 mask 생성\n",
    "names_Beomwoo_mask = (names == 'Beomwoo')\n",
    "# names_Beomwoo_mask = (names == ['Beomwoo','Beomwoo','Beomwoo','Beomwoo','Beomwoo','Beomwoo','Beomwoo','Beomwoo'])\n",
    "print(names_Beomwoo_mask)\n",
    "# data에서 names_Beomwoo_mask가 True인 행들만 가져옴\n",
    "print(data[names_Beomwoo_mask,:])\n",
    "# print(data[[ True  True False False False  True False  True],:])\n",
    "# 요소가 Kim인 행의 데이터만 꺼내기\n",
    "print(data[names == 'Kim',:])\n",
    "# 논리 연산을 응용하여, 요소가 Kim 또는 Park인 행의 데이터만 꺼내기\n",
    "# | : or\n",
    "print(data[(names == 'Kim') | (names == 'Park'),:])"
   ]
  },
  {
   "cell_type": "code",
   "execution_count": 52,
   "metadata": {},
   "outputs": [
    {
     "name": "stdout",
     "output_type": "stream",
     "text": [
      "[False  True  True False  True False False False]\n",
      "[[-0.95151086 -0.64221062 -0.56619541  0.97785195]\n",
      " [-1.39531292 -0.2102204  -1.02207432 -0.36547921]\n",
      " [-0.83645732  0.40208761  0.25064533  1.64160146]]\n",
      "[[-0.56619541  0.97785195]\n",
      " [-1.02207432 -0.36547921]\n",
      " [ 0.25064533  1.64160146]]\n",
      "[[ 1.10624979 -1.30889768 -0.73395624  0.03050751]\n",
      " [-0.95151086 -0.64221062  0.          0.        ]\n",
      " [-1.39531292 -0.2102204   0.          0.        ]\n",
      " [ 0.43826673 -1.11312098 -0.58650134  0.51299541]\n",
      " [-0.83645732  0.40208761  0.          0.        ]\n",
      " [ 0.70514988  1.87712526 -0.48825558 -1.18825168]\n",
      " [ 1.05546947  1.39208555 -0.175478   -0.07499263]\n",
      " [ 0.43583543  0.37458438  2.11781537 -1.11505998]]\n"
     ]
    }
   ],
   "source": [
    "# data array에서 0번째 열이 0보다 작은 element의 boolean 값\n",
    "print(data[:,0] < 0)\n",
    "# 첫번째 열의 값이 0보다 작은 행들을 출력\n",
    "print(data[data[:,0]<0,:])\n",
    "# print(data[[False  True  True False  True False False False],:])\n",
    "# 첫번째 열의 값이 0보다 작은 행의 3,4번째 열 값\n",
    "print(data[data[:,0]<0,2:4])\n",
    "# 첫번째 열의 값이 0보다 작은 행의 3,4번째 열 값을 0으로 setting\n",
    "data[data[:,0]<0,2:4] = 0\n",
    "print(data)"
   ]
  },
  {
   "cell_type": "code",
   "execution_count": 53,
   "metadata": {},
   "outputs": [
    {
     "name": "stdout",
     "output_type": "stream",
     "text": [
      "[[ 0.65478026  0.52162892 -0.25561032]\n",
      " [-0.83322712 -0.91260114  0.78950984]\n",
      " [-0.21911069 -0.50022931 -0.0177804 ]\n",
      " [-1.06925347  1.38096058  0.52497812]\n",
      " [-0.54982038  0.19921616  0.71562007]]\n"
     ]
    }
   ],
   "source": [
    "arr1 = np.random.randn(5,3)\n",
    "print(arr1)"
   ]
  },
  {
   "cell_type": "code",
   "execution_count": 54,
   "metadata": {},
   "outputs": [
    {
     "data": {
      "text/plain": [
       "array([[0.65478026, 0.52162892, 0.25561032],\n",
       "       [0.83322712, 0.91260114, 0.78950984],\n",
       "       [0.21911069, 0.50022931, 0.0177804 ],\n",
       "       [1.06925347, 1.38096058, 0.52497812],\n",
       "       [0.54982038, 0.19921616, 0.71562007]])"
      ]
     },
     "execution_count": 54,
     "metadata": {},
     "output_type": "execute_result"
    }
   ],
   "source": [
    "# 각 성분의 절대값 계산하기\n",
    "np.abs(arr1)"
   ]
  },
  {
   "cell_type": "code",
   "execution_count": 55,
   "metadata": {},
   "outputs": [
    {
     "name": "stderr",
     "output_type": "stream",
     "text": [
      "C:\\Users\\user\\Anaconda3\\lib\\site-packages\\ipykernel_launcher.py:2: RuntimeWarning: invalid value encountered in sqrt\n",
      "  \n"
     ]
    },
    {
     "data": {
      "text/plain": [
       "array([[0.80918493, 0.72223882,        nan],\n",
       "       [       nan,        nan, 0.88854366],\n",
       "       [       nan,        nan,        nan],\n",
       "       [       nan, 1.17514279, 0.72455374],\n",
       "       [       nan, 0.44633637, 0.8459433 ]])"
      ]
     },
     "execution_count": 55,
     "metadata": {},
     "output_type": "execute_result"
    }
   ],
   "source": [
    "# 각 성분의 제곱근 계산하기 ( == array ** 0.5)\n",
    "np.sqrt(arr1)\n",
    "# nan : Not a Number"
   ]
  },
  {
   "cell_type": "code",
   "execution_count": 46,
   "metadata": {},
   "outputs": [
    {
     "data": {
      "text/plain": [
       "array([[0.68394036, 0.71769496, 0.26850025],\n",
       "       [2.0011427 , 0.15857713, 3.04565723],\n",
       "       [0.7525532 , 0.67933202, 0.43222413],\n",
       "       [0.68760879, 0.94006481, 1.20465704],\n",
       "       [0.00327074, 0.09694809, 1.38442894]])"
      ]
     },
     "execution_count": 46,
     "metadata": {},
     "output_type": "execute_result"
    }
   ],
   "source": [
    "# 각 성분의 제곱 계산하기\n",
    "np.square(arr1)"
   ]
  },
  {
   "cell_type": "code",
   "execution_count": 48,
   "metadata": {},
   "outputs": [
    {
     "data": {
      "text/plain": [
       "array([[2.2864648 , 2.33303218, 1.67895251],\n",
       "       [0.24301855, 0.671516  , 5.72693878],\n",
       "       [2.38094684, 0.4385787 , 1.92984087],\n",
       "       [0.43638875, 2.6368088 , 0.33368138],\n",
       "       [1.05885734, 1.36528729, 0.30831984]])"
      ]
     },
     "execution_count": 48,
     "metadata": {},
     "output_type": "execute_result"
    }
   ],
   "source": [
    "# 각 성분을 무리수 e의 지수로 삼은 값을 계산하기\n",
    "np.exp(arr1)"
   ]
  },
  {
   "cell_type": "code",
   "execution_count": 49,
   "metadata": {},
   "outputs": [
    {
     "name": "stderr",
     "output_type": "stream",
     "text": [
      "C:\\Users\\user\\Anaconda3\\lib\\site-packages\\ipykernel_launcher.py:2: RuntimeWarning: invalid value encountered in log\n",
      "  \n"
     ]
    },
    {
     "data": {
      "text/plain": [
       "array([[-0.18994228, -0.16585533, -0.65745173],\n",
       "       [        nan,         nan,  0.55685836],\n",
       "       [-0.14214179,         nan, -0.4194055 ],\n",
       "       [        nan, -0.03090323,         nan],\n",
       "       [-2.86137013, -1.16678982,         nan]])"
      ]
     },
     "execution_count": 49,
     "metadata": {},
     "output_type": "execute_result"
    }
   ],
   "source": [
    "# 각 성분을 자연로그, 상용로그, 밑이 2인 로그를 씌운 값을 계산하기\n",
    "np.log(arr1)"
   ]
  },
  {
   "cell_type": "code",
   "execution_count": 53,
   "metadata": {},
   "outputs": [
    {
     "name": "stderr",
     "output_type": "stream",
     "text": [
      "C:\\Users\\user\\Anaconda3\\lib\\site-packages\\ipykernel_launcher.py:2: RuntimeWarning: invalid value encountered in log10\n",
      "  \n"
     ]
    },
    {
     "data": {
      "text/plain": [
       "array([[-0.08249088, -0.07203005, -0.28552766],\n",
       "       [        nan,         nan,  0.24184051],\n",
       "       [-0.0617314 ,         nan, -0.1821455 ],\n",
       "       [        nan, -0.0134211 ,         nan],\n",
       "       [-1.24267726, -0.50673038,         nan]])"
      ]
     },
     "execution_count": 53,
     "metadata": {},
     "output_type": "execute_result"
    }
   ],
   "source": [
    "# 각 성분을 자연로그, 상용로그, 밑이 10인 로그를 씌운 값을 계산하기\n",
    "np.log10(arr1)"
   ]
  },
  {
   "cell_type": "code",
   "execution_count": 51,
   "metadata": {},
   "outputs": [
    {
     "data": {
      "text/plain": [
       "array([[ 1.,  1.,  1.],\n",
       "       [-1., -1.,  1.],\n",
       "       [ 1., -1.,  1.],\n",
       "       [-1.,  1., -1.],\n",
       "       [ 1.,  1., -1.]])"
      ]
     },
     "execution_count": 51,
     "metadata": {},
     "output_type": "execute_result"
    }
   ],
   "source": [
    "# 각 성분의 부호 계산하기(+인 경우 1, -인 경우 -1, 0인 경우 0)\n",
    "np.sign(arr1)"
   ]
  },
  {
   "cell_type": "code",
   "execution_count": 52,
   "metadata": {},
   "outputs": [
    {
     "data": {
      "text/plain": [
       "array([[ 1.,  1.,  1.],\n",
       "       [-1., -0.,  2.],\n",
       "       [ 1., -0.,  1.],\n",
       "       [-0.,  1., -1.],\n",
       "       [ 1.,  1., -1.]])"
      ]
     },
     "execution_count": 52,
     "metadata": {},
     "output_type": "execute_result"
    }
   ],
   "source": [
    "# 각 성분의 소수 첫 번째 자리에서 올림한 값을 계산하기\n",
    "np.ceil(arr1)"
   ]
  },
  {
   "cell_type": "code",
   "execution_count": 54,
   "metadata": {},
   "outputs": [
    {
     "data": {
      "text/plain": [
       "array([[ 0.,  0.,  0.],\n",
       "       [-2., -1.,  1.],\n",
       "       [ 0., -1.,  0.],\n",
       "       [-1.,  0., -2.],\n",
       "       [ 0.,  0., -2.]])"
      ]
     },
     "execution_count": 54,
     "metadata": {},
     "output_type": "execute_result"
    }
   ],
   "source": [
    "# 각 성분의 소수 첫 번째 자리에서 내림한 값을 계산하기\n",
    "np.floor(arr1)"
   ]
  },
  {
   "cell_type": "code",
   "execution_count": 55,
   "metadata": {},
   "outputs": [
    {
     "data": {
      "text/plain": [
       "array([[False, False, False],\n",
       "       [False, False, False],\n",
       "       [False, False, False],\n",
       "       [False, False, False],\n",
       "       [False, False, False]])"
      ]
     },
     "execution_count": 55,
     "metadata": {},
     "output_type": "execute_result"
    }
   ],
   "source": [
    "# 각 성분이 NaN인 경우 True를, 아닌 경우 False를 반환하기\n",
    "np.isnan(arr1)"
   ]
  },
  {
   "cell_type": "code",
   "execution_count": 56,
   "metadata": {},
   "outputs": [
    {
     "name": "stderr",
     "output_type": "stream",
     "text": [
      "C:\\Users\\user\\Anaconda3\\lib\\site-packages\\ipykernel_launcher.py:1: RuntimeWarning: invalid value encountered in log\n",
      "  \"\"\"Entry point for launching an IPython kernel.\n"
     ]
    },
    {
     "data": {
      "text/plain": [
       "array([[False, False, False],\n",
       "       [ True,  True, False],\n",
       "       [False,  True, False],\n",
       "       [ True, False,  True],\n",
       "       [False, False,  True]])"
      ]
     },
     "execution_count": 56,
     "metadata": {},
     "output_type": "execute_result"
    }
   ],
   "source": [
    "np.isnan(np.log(arr1))"
   ]
  },
  {
   "cell_type": "code",
   "execution_count": 57,
   "metadata": {},
   "outputs": [
    {
     "data": {
      "text/plain": [
       "array([[False, False, False],\n",
       "       [False, False, False],\n",
       "       [False, False, False],\n",
       "       [False, False, False],\n",
       "       [False, False, False]])"
      ]
     },
     "execution_count": 57,
     "metadata": {},
     "output_type": "execute_result"
    }
   ],
   "source": [
    "# 각 성분이 무한대(infinity)인 경우 True를, 아닌 경우 False를 반환하기\n",
    "np.isinf(arr1)"
   ]
  },
  {
   "cell_type": "code",
   "execution_count": 58,
   "metadata": {},
   "outputs": [
    {
     "data": {
      "text/plain": [
       "array([[ 0.67708146,  0.66210753,  0.86872697],\n",
       "       [ 0.15554468,  0.92175369, -0.17350232],\n",
       "       [ 0.64673669,  0.67913264,  0.79156072],\n",
       "       [ 0.67544981,  0.56565468,  0.45576157],\n",
       "       [ 0.99836508,  0.95191632,  0.38405004]])"
      ]
     },
     "execution_count": 58,
     "metadata": {},
     "output_type": "execute_result"
    }
   ],
   "source": [
    "# 각 성분에 대해 삼각함수 값을 계산하기(cos, cosh, sin, sinh, tan, tanh)\n",
    "np.cos(arr1)"
   ]
  },
  {
   "cell_type": "code",
   "execution_count": 56,
   "metadata": {},
   "outputs": [
    {
     "data": {
      "text/plain": [
       "array([[ 0.57487921,  0.47895624, -0.25018516],\n",
       "       [-0.68220501, -0.72237838,  0.65813127],\n",
       "       [-0.21567028, -0.46229748, -0.01777853],\n",
       "       [-0.7891798 ,  0.88116618,  0.48153299],\n",
       "       [-0.50038558,  0.1966219 ,  0.61418894]])"
      ]
     },
     "execution_count": 56,
     "metadata": {},
     "output_type": "execute_result"
    }
   ],
   "source": [
    "np.tanh(arr1)"
   ]
  },
  {
   "cell_type": "code",
   "execution_count": 57,
   "metadata": {},
   "outputs": [
    {
     "name": "stdout",
     "output_type": "stream",
     "text": [
      "[[ 0.65478026  0.52162892 -0.25561032]\n",
      " [-0.83322712 -0.91260114  0.78950984]\n",
      " [-0.21911069 -0.50022931 -0.0177804 ]\n",
      " [-1.06925347  1.38096058  0.52497812]\n",
      " [-0.54982038  0.19921616  0.71562007]]\n",
      "[[ 0.49197318  0.42189448  1.03470692]\n",
      " [-1.32878145  1.86110624 -0.158023  ]\n",
      " [-0.36527869  1.65507904 -1.01902061]\n",
      " [ 0.77307164 -0.21942812  0.09673373]\n",
      " [ 0.74097295  0.66874114 -0.46392974]]\n"
     ]
    }
   ],
   "source": [
    "print(arr1)\n",
    "arr2 = np.random.randn(5,3)\n",
    "print(arr2)"
   ]
  },
  {
   "cell_type": "code",
   "execution_count": 58,
   "metadata": {},
   "outputs": [
    {
     "data": {
      "text/plain": [
       "array([[ 0.32213433,  0.22007236, -0.26448177],\n",
       "       [ 1.10717675, -1.69844768, -0.12476072],\n",
       "       [ 0.08003647, -0.82791904,  0.01811859],\n",
       "       [-0.82660953, -0.30302159,  0.05078309],\n",
       "       [-0.40740203,  0.13322404, -0.33199743]])"
      ]
     },
     "execution_count": 58,
     "metadata": {},
     "output_type": "execute_result"
    }
   ],
   "source": [
    "# 두 개의 array에 대해 동일한 위치의 성분끼리 연산 값을 계산하기\n",
    "# (add, subtract, multiply, divide)\n",
    "np.multiply(arr1,arr2)"
   ]
  },
  {
   "cell_type": "code",
   "execution_count": 59,
   "metadata": {},
   "outputs": [
    {
     "data": {
      "text/plain": [
       "array([[ 0.65478026,  0.52162892,  1.03470692],\n",
       "       [-0.83322712,  1.86110624,  0.78950984],\n",
       "       [-0.21911069,  1.65507904, -0.0177804 ],\n",
       "       [ 0.77307164,  1.38096058,  0.52497812],\n",
       "       [ 0.74097295,  0.66874114,  0.71562007]])"
      ]
     },
     "execution_count": 59,
     "metadata": {},
     "output_type": "execute_result"
    }
   ],
   "source": [
    "# 두 개의 array에 대해 동일한 위치의 성분끼리 비교하여 \n",
    "# 최대값 또는 최소값 계산하기(maximum, minimum)\n",
    "np.maximum(arr1,arr2)"
   ]
  },
  {
   "cell_type": "code",
   "execution_count": 60,
   "metadata": {},
   "outputs": [
    {
     "name": "stdout",
     "output_type": "stream",
     "text": [
      "[[ 0.65478026  0.52162892 -0.25561032]\n",
      " [-0.83322712 -0.91260114  0.78950984]\n",
      " [-0.21911069 -0.50022931 -0.0177804 ]\n",
      " [-1.06925347  1.38096058  0.52497812]\n",
      " [-0.54982038  0.19921616  0.71562007]]\n"
     ]
    }
   ],
   "source": [
    "print(arr1)"
   ]
  },
  {
   "cell_type": "code",
   "execution_count": 61,
   "metadata": {},
   "outputs": [
    {
     "data": {
      "text/plain": [
       "0.42906111324453333"
      ]
     },
     "execution_count": 61,
     "metadata": {},
     "output_type": "execute_result"
    }
   ],
   "source": [
    "# 전체 성분의 합을 계산\n",
    "np.sum(arr1)"
   ]
  },
  {
   "cell_type": "code",
   "execution_count": 63,
   "metadata": {},
   "outputs": [
    {
     "data": {
      "text/plain": [
       "array([-2.01663141,  0.68897521,  1.75671731])"
      ]
     },
     "execution_count": 63,
     "metadata": {},
     "output_type": "execute_result"
    }
   ],
   "source": [
    "# 열 간의 합을 계산\n",
    "np.sum(arr1, axis=0)"
   ]
  },
  {
   "cell_type": "code",
   "execution_count": 66,
   "metadata": {},
   "outputs": [
    {
     "data": {
      "text/plain": [
       "array([-0.49214385,  0.90566962,  0.64660251])"
      ]
     },
     "execution_count": 66,
     "metadata": {},
     "output_type": "execute_result"
    }
   ],
   "source": [
    "# 행 간의 합을 계산\n",
    "np.sum(arr1, axis=0)"
   ]
  },
  {
   "cell_type": "code",
   "execution_count": 67,
   "metadata": {},
   "outputs": [
    {
     "data": {
      "text/plain": [
       "0.07067521821513824"
      ]
     },
     "execution_count": 67,
     "metadata": {},
     "output_type": "execute_result"
    }
   ],
   "source": [
    "# 전체 성분의 평균을 계산\n",
    "np.mean(arr1)"
   ]
  },
  {
   "cell_type": "code",
   "execution_count": 68,
   "metadata": {},
   "outputs": [
    {
     "data": {
      "text/plain": [
       "array([-0.09842877,  0.18113392,  0.1293205 ])"
      ]
     },
     "execution_count": 68,
     "metadata": {},
     "output_type": "execute_result"
    }
   ],
   "source": [
    "# 행 간의 평균을 계산\n",
    "np.mean(arr1, axis=0)"
   ]
  },
  {
   "cell_type": "code",
   "execution_count": 69,
   "metadata": {},
   "outputs": [
    {
     "data": {
      "text/plain": [
       "0.9302929855458607"
      ]
     },
     "execution_count": 69,
     "metadata": {},
     "output_type": "execute_result"
    }
   ],
   "source": [
    "# 전체 성분의 표준편차, 분산, 최소값, 최대값 계산(std, var, min, max)\n",
    "np.std(arr1)"
   ]
  },
  {
   "cell_type": "code",
   "execution_count": 70,
   "metadata": {},
   "outputs": [
    {
     "data": {
      "text/plain": [
       "array([ 0.51817009, -1.41461751, -0.824216  , -1.0975687 , -1.17661758])"
      ]
     },
     "execution_count": 70,
     "metadata": {},
     "output_type": "execute_result"
    }
   ],
   "source": [
    "np.min(arr1, axis=1)"
   ]
  },
  {
   "cell_type": "code",
   "execution_count": 64,
   "metadata": {},
   "outputs": [
    {
     "data": {
      "text/plain": [
       "9"
      ]
     },
     "execution_count": 64,
     "metadata": {},
     "output_type": "execute_result"
    }
   ],
   "source": [
    "# 전체 성분의 최소값, 최대값이 위치한 인덱스를 반환(argmin, argmax)\n",
    "np.argmin(arr1)"
   ]
  },
  {
   "cell_type": "code",
   "execution_count": 65,
   "metadata": {},
   "outputs": [
    {
     "data": {
      "text/plain": [
       "array([0, 3, 1], dtype=int64)"
      ]
     },
     "execution_count": 65,
     "metadata": {},
     "output_type": "execute_result"
    }
   ],
   "source": [
    "np.argmax(arr1,axis=0)"
   ]
  },
  {
   "cell_type": "code",
   "execution_count": 66,
   "metadata": {},
   "outputs": [
    {
     "data": {
      "text/plain": [
       "array([ 0.65478026,  1.17640917,  0.92079885,  0.08757173, -0.82502941,\n",
       "       -0.03551957, -0.25463026, -0.75485956, -0.77263996, -1.84189343,\n",
       "       -0.46093285,  0.06404527, -0.48577511, -0.28655895,  0.42906111])"
      ]
     },
     "execution_count": 66,
     "metadata": {},
     "output_type": "execute_result"
    }
   ],
   "source": [
    "# 맨 처음 성분부터 각 성분까지의 누적합 또는 누적곱을 계산(cumsum, cumprod)\n",
    "# cumsum : cumulative summation(누적합)\n",
    "np.cumsum(arr1)"
   ]
  },
  {
   "cell_type": "code",
   "execution_count": 67,
   "metadata": {},
   "outputs": [
    {
     "data": {
      "text/plain": [
       "array([[ 0.65478026,  1.17640917,  0.92079885],\n",
       "       [-0.83322712, -1.74582826, -0.95631842],\n",
       "       [-0.21911069, -0.71934   , -0.7371204 ],\n",
       "       [-1.06925347,  0.31170712,  0.83668524],\n",
       "       [-0.54982038, -0.35060423,  0.36501584]])"
      ]
     },
     "execution_count": 67,
     "metadata": {},
     "output_type": "execute_result"
    }
   ],
   "source": [
    "np.cumsum(arr1,axis=1)"
   ]
  },
  {
   "cell_type": "code",
   "execution_count": 68,
   "metadata": {},
   "outputs": [
    {
     "data": {
      "text/plain": [
       "array([ 6.54780256e-01,  3.41552316e-01, -8.73042970e-02,  7.27443081e-02,\n",
       "       -6.63865385e-02, -5.24128254e-02,  1.14842103e-02, -5.74473857e-03,\n",
       "        1.02143749e-04, -1.09217557e-04, -1.50825142e-04, -7.91798995e-05,\n",
       "        4.35347228e-05,  8.67282015e-06,  6.20644414e-06])"
      ]
     },
     "execution_count": 68,
     "metadata": {},
     "output_type": "execute_result"
    }
   ],
   "source": [
    "np.cumprod(arr1)"
   ]
  },
  {
   "cell_type": "code",
   "execution_count": 76,
   "metadata": {},
   "outputs": [
    {
     "name": "stdout",
     "output_type": "stream",
     "text": [
      "[[ 0.82700687  0.84716879  0.51817009]\n",
      " [-1.41461751 -0.39821744  1.74518114]\n",
      " [ 0.86749824 -0.824216    0.65743755]\n",
      " [-0.8292218   0.9695694  -1.0975687 ]\n",
      " [ 0.05719035  0.31136488 -1.17661758]]\n"
     ]
    }
   ],
   "source": [
    "print(arr1)"
   ]
  },
  {
   "cell_type": "code",
   "execution_count": 77,
   "metadata": {},
   "outputs": [
    {
     "data": {
      "text/plain": [
       "array([[ 0.51817009,  0.82700687,  0.84716879],\n",
       "       [-1.41461751, -0.39821744,  1.74518114],\n",
       "       [-0.824216  ,  0.65743755,  0.86749824],\n",
       "       [-1.0975687 , -0.8292218 ,  0.9695694 ],\n",
       "       [-1.17661758,  0.05719035,  0.31136488]])"
      ]
     },
     "execution_count": 77,
     "metadata": {},
     "output_type": "execute_result"
    }
   ],
   "source": [
    "# 전체 성분에 대해서 오름차순으로 정렬\n",
    "np.sort(arr1)"
   ]
  },
  {
   "cell_type": "code",
   "execution_count": 78,
   "metadata": {},
   "outputs": [
    {
     "data": {
      "text/plain": [
       "array([[-1.17661758,  0.05719035,  0.31136488],\n",
       "       [-1.0975687 , -0.8292218 ,  0.9695694 ],\n",
       "       [-0.824216  ,  0.65743755,  0.86749824],\n",
       "       [-1.41461751, -0.39821744,  1.74518114],\n",
       "       [ 0.51817009,  0.82700687,  0.84716879]])"
      ]
     },
     "execution_count": 78,
     "metadata": {},
     "output_type": "execute_result"
    }
   ],
   "source": [
    "# 전체 성분에 대해서 내림차순으로 정렬\n",
    "np.sort(arr1)[::-1]"
   ]
  },
  {
   "cell_type": "code",
   "execution_count": 79,
   "metadata": {},
   "outputs": [
    {
     "data": {
      "text/plain": [
       "array([[-1.41461751, -0.824216  , -1.17661758],\n",
       "       [-0.8292218 , -0.39821744, -1.0975687 ],\n",
       "       [ 0.05719035,  0.31136488,  0.51817009],\n",
       "       [ 0.82700687,  0.84716879,  0.65743755],\n",
       "       [ 0.86749824,  0.9695694 ,  1.74518114]])"
      ]
     },
     "execution_count": 79,
     "metadata": {},
     "output_type": "execute_result"
    }
   ],
   "source": [
    "# 행 방향으로 오름차순으로 정렬\n",
    "np.sort(arr1,axis=0)"
   ]
  },
  {
   "cell_type": "code",
   "execution_count": null,
   "metadata": {},
   "outputs": [],
   "source": []
  }
 ],
 "metadata": {
  "kernelspec": {
   "display_name": "Python 3",
   "language": "python",
   "name": "python3"
  },
  "language_info": {
   "codemirror_mode": {
    "name": "ipython",
    "version": 3
   },
   "file_extension": ".py",
   "mimetype": "text/x-python",
   "name": "python",
   "nbconvert_exporter": "python",
   "pygments_lexer": "ipython3",
   "version": "3.8.5"
  }
 },
 "nbformat": 4,
 "nbformat_minor": 2
}
