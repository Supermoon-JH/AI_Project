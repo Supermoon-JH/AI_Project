{
 "cells": [
  {
   "cell_type": "code",
   "execution_count": 1,
   "metadata": {},
   "outputs": [
    {
     "name": "stdout",
     "output_type": "stream",
     "text": [
      "Input some comma seprated numbers : 3, 5, 7, 23\n",
      "List: ['3', ' 5', ' 7', ' 23']\n",
      "Tuple: ('3', ' 5', ' 7', ' 23')\n"
     ]
    }
   ],
   "source": [
    "# 1. 사용자로 부터 comma seprated 입력 문자열을 받아서, list와 tuple을 만들어 출력하시오\n",
    "\n",
    "# Console Output\n",
    "# ---------------------------------------------\n",
    "# Input some comma seprated numbers : 3,5,7,23\n",
    "# List :  ['3', '5', '7', '23']\n",
    "# Tuple :  ('3', '5', '7', '23')\n",
    "\n",
    "# input 명령어 : string을 return하는 명령어 임, (values : 사용자가 입력한 string)\n",
    "values = input(\"Input some comma seprated numbers : \")\n",
    "list = [x for x in values.split(',')]\n",
    "print(f\"List: {list}\")\n",
    "\n",
    "tuple = tuple(list)\n",
    "print(f\"Tuple: {tuple}\")\n",
    " \n",
    "# string split 내장함수를 사용하여 list와 tuple만들 것"
   ]
  },
  {
   "cell_type": "code",
   "execution_count": 4,
   "metadata": {},
   "outputs": [
    {
     "name": "stdout",
     "output_type": "stream",
     "text": [
      "Red Black\n"
     ]
    }
   ],
   "source": [
    "# 2. color_list에서 첫번째와 마지막 칼라 문자열을 출력하시오\n",
    "\n",
    "color_list = [\"Red\",\"Green\",\"White\" ,\"Black\"]\n",
    "a = color_list[0] \n",
    "b = color_list[-1]\n",
    "print(a + ' '+ b)\n",
    "\n",
    "# Console Output\n",
    "# ---------------------------------------------\n",
    "# Red Black"
   ]
  },
  {
   "cell_type": "code",
   "execution_count": 4,
   "metadata": {},
   "outputs": [
    {
     "name": "stdout",
     "output_type": "stream",
     "text": [
      "386\n",
      "462\n",
      "418\n",
      "344\n",
      "236\n",
      "566\n",
      "978\n",
      "328\n",
      "162\n",
      "758\n",
      "918\n",
      "237\n"
     ]
    }
   ],
   "source": [
    "# 3. 아래 numbers list에서 짝수인 원소만 출력하시오.\n",
    "#    단, 원소의 값이 273이면 list의 다음 원소값을 읽지 말고 출력을 멈추시오(for-in에서 break)\n",
    "\n",
    "numbers = [\n",
    "    386, 462, 47, 418, 907, 344, 236, 375, 823, 566, 597, 978, 328, 615, 953, 345,\n",
    "    399, 162, 758, 219, 918, 237, 412, 566, 826, 248, 866, 950, 626, 949, 687, 217,\n",
    "    815, 67, 104, 58, 512, 24, 892, 894, 767, 553, 81, 379, 843, 831, 445, 742, 717,\n",
    "    958,743, 527\n",
    "    ]\n",
    "\n",
    "def printeven(numbers):\n",
    "    for x in numbers:\n",
    "        if x % 2 == 0:\n",
    "            print(x)\n",
    "        elif x == 237:\n",
    "            print(x)\n",
    "            break\n",
    "\n",
    "printeven(numbers)\n",
    "    \n",
    "# Console Output\n",
    "# ---------------------------------------------\n",
    "# 386\n",
    "# 462\n",
    "# 418\n",
    "# 344\n",
    "# 236\n",
    "# 566\n",
    "# 978\n",
    "# 328\n",
    "# 162\n",
    "# 758\n",
    "# 918\n",
    "# 237"
   ]
  },
  {
   "cell_type": "code",
   "execution_count": 19,
   "metadata": {},
   "outputs": [
    {
     "name": "stdout",
     "output_type": "stream",
     "text": [
      "{'g': 2, 'o': 3, 'l': 1, 'e': 1, '.': 1, 'c': 1, 'm': 1}\n"
     ]
    }
   ],
   "source": [
    "# 4. \"google.com\" string에서 각 character의 숫자를 dictionary로 변환하여 출력하시오\n",
    "\n",
    "# input string\n",
    "input_data = \"google.com\"\n",
    "# dictionary data type 변수 dic 선언\n",
    "dic = dict()\n",
    "\n",
    "for i in input_data:\n",
    "    dic[i] = 0\n",
    "    if i in input_data:\n",
    "        dic[i] = input_data.count(i)\n",
    "    \n",
    "print(dic)\n",
    "\n",
    "# Console Output\n",
    "# ---------------------------------------------\n",
    "# {'o': 3, '.': 1, 'g': 2, 'l': 1, 'e': 1, 'c': 1, 'm': 1}\n"
   ]
  },
  {
   "cell_type": "code",
   "execution_count": 20,
   "metadata": {},
   "outputs": [
    {
     "name": "stdout",
     "output_type": "stream",
     "text": [
      "[40, 10, 50, 20, 60, 30]\n"
     ]
    }
   ],
   "source": [
    "# 5. 다음 list에서 중복된 원소를 제거한 list를 생성후 출력하시오\n",
    "# hint : my_list를 set data type으로 변환후 다시 list data type으로 변환\n",
    "\n",
    "my_list = [10, 20, 30, 40, 20, 50, 60, 40]\n",
    "my_list = list(set(my_list))\n",
    "print(my_list)\n",
    "\n",
    "# Console Output\n",
    "# ---------------------------------------------\n",
    "# List of unique numbers :  [40, 10, 50, 20, 60, 30]"
   ]
  },
  {
   "cell_type": "code",
   "execution_count": 4,
   "metadata": {},
   "outputs": [
    {
     "name": "stdout",
     "output_type": "stream",
     "text": [
      "{1: 10, 2: 20, 3: 30, 4: 40, 5: 50, 6: 60}\n"
     ]
    }
   ],
   "source": [
    "# 6. 다음 input dictionary 변수들을 합쳐서 새로운 dictionary로 만든 후 출력하시오\n",
    "dic1={1:10, 2:20}\n",
    "dic2={3:30, 4:40}\n",
    "dic3={5:50, 6:60}\n",
    "dic4 = {**dic1, **dic2, **dic3}\n",
    "print(dic4)\n",
    "\n",
    "# Console Output\n",
    "# ---------------------------------------------\n",
    "# {1: 10, 2: 20, 3: 30, 4: 40, 5: 50, 6: 60}"
   ]
  },
  {
   "cell_type": "code",
   "execution_count": 6,
   "metadata": {},
   "outputs": [
    {
     "name": "stdout",
     "output_type": "stream",
     "text": [
      "exercises\n"
     ]
    }
   ],
   "source": [
    "# 7. 아래 tuple을 string으로 변환하여 출력하시오\n",
    "tup = ('e', 'x', 'e', 'r', 'c', 'i', 's', 'e', 's')\n",
    "\n",
    "print(''.join(tup))\n",
    "\n",
    "# Console Output\n",
    "# ---------------------------------------------\n",
    "# output : exercises"
   ]
  },
  {
   "cell_type": "code",
   "execution_count": 7,
   "metadata": {},
   "outputs": [
    {
     "name": "stdout",
     "output_type": "stream",
     "text": [
      "0\n",
      "1\n",
      "2\n",
      "3\n",
      "4\n",
      "5\n"
     ]
    }
   ],
   "source": [
    "# 8. 아래 set의 모든 원소를 출력하시오\n",
    "num_set = set([0, 1, 2, 3, 4, 5])\n",
    "\n",
    "for x in num_set:\n",
    "    print(x)\n",
    "\n",
    "# Console Output\n",
    "# ---------------------------------------------\n",
    "# 0\n",
    "# 1\n",
    "# 2\n",
    "# 3\n",
    "# 4\n",
    "# 5"
   ]
  },
  {
   "cell_type": "code",
   "execution_count": 15,
   "metadata": {},
   "outputs": [
    {
     "name": "stdout",
     "output_type": "stream",
     "text": [
      "-336\n"
     ]
    }
   ],
   "source": [
    "# 9. list의 모든 숫자 원소를 곱하는 함수를 만들고, 함수롤 호출하여 출력하시오\n",
    "def multiply(numbers):\n",
    "    x = 1\n",
    "    for i in numbers:\n",
    "        x *= i\n",
    "    return x\n",
    "        \n",
    "        \n",
    "print(multiply([8, 2, 3, -1, 7]))\n",
    "\n",
    "\n",
    "# Console Output\n",
    "# ---------------------------------------------\n",
    "# -336\n"
   ]
  },
  {
   "cell_type": "code",
   "execution_count": 17,
   "metadata": {},
   "outputs": [
    {
     "name": "stdout",
     "output_type": "stream",
     "text": [
      "Original String: The quick Brown Fox\n",
      "No. of Upper case characters: 3\n",
      "No. of Lower case characters: 13\n"
     ]
    }
   ],
   "source": [
    "# 10. 아래 input string에서 대문자의 character 숫자와 소무자 character 숫자를\n",
    "#      계산하는 함수를 만들고, 함수 호출하여 출력하시오\n",
    "\n",
    "def string_test(s):\n",
    "    upper_count = 0\n",
    "    for i in s:\n",
    "        if i.isupper():\n",
    "            upper_count += 1\n",
    "    lower_count = 0\n",
    "    for i in s:\n",
    "        if i.islower():\n",
    "            lower_count += 1\n",
    "    \n",
    "    print(f\"Original String: {s}\")\n",
    "    print(f\"No. of Upper case characters: {upper_count}\")\n",
    "    print(f\"No. of Lower case characters: {lower_count}\")\n",
    "\n",
    "string_test('The quick Brown Fox')\n",
    "\n",
    "\n",
    "# Console Output\n",
    "# ---------------------------------------------\n",
    "# Original String :  The quick Brow Fox\n",
    "# No. of Upper case characters :  3\n",
    "# No. of Lower case Characters :  13"
   ]
  },
  {
   "cell_type": "code",
   "execution_count": null,
   "metadata": {},
   "outputs": [],
   "source": []
  }
 ],
 "metadata": {
  "kernelspec": {
   "display_name": "Python 3",
   "language": "python",
   "name": "python3"
  },
  "language_info": {
   "codemirror_mode": {
    "name": "ipython",
    "version": 3
   },
   "file_extension": ".py",
   "mimetype": "text/x-python",
   "name": "python",
   "nbconvert_exporter": "python",
   "pygments_lexer": "ipython3",
   "version": "3.8.5"
  }
 },
 "nbformat": 4,
 "nbformat_minor": 2
}
