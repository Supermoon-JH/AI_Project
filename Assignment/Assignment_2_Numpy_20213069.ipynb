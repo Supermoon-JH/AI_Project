{
 "cells": [
  {
   "cell_type": "code",
   "execution_count": 5,
   "metadata": {},
   "outputs": [],
   "source": [
    "# numpy library import\n",
    "import numpy as np"
   ]
  },
  {
   "cell_type": "code",
   "execution_count": 29,
   "metadata": {},
   "outputs": [
    {
     "data": {
      "text/plain": [
       "array([0, 1, 2, 3, 4, 5, 6, 7, 8, 9])"
      ]
     },
     "execution_count": 29,
     "metadata": {},
     "output_type": "execute_result"
    }
   ],
   "source": [
    "# 1. 1차원 배열 (원소가 0 ~ 9의 값)을 만들고 출력하시오\n",
    "\n",
    "# Console Output\n",
    "# ---------------------------------------------\n",
    "# array([0, 1, 2, 3, 4, 5, 6, 7, 8, 9])\n",
    "\n",
    "\n",
    "arr = np.array([0, 1, 2, 3, 4, 5, 6, 7, 8, 9])\n",
    "\n",
    "arr"
   ]
  },
  {
   "cell_type": "code",
   "execution_count": 30,
   "metadata": {},
   "outputs": [
    {
     "data": {
      "text/plain": [
       "array([1, 3, 5, 7, 9])"
      ]
     },
     "execution_count": 30,
     "metadata": {},
     "output_type": "execute_result"
    }
   ],
   "source": [
    "# 2. 1차원 배열인 arr에서 홀수 원소값을 추출하여 출력하시오\n",
    "\n",
    "# Console Output\n",
    "# ---------------------------------------------\n",
    "# array([1, 3, 5, 7, 9])\n",
    "\n",
    "# input data\n",
    "arr = np.array([0, 1, 2, 3, 4, 5, 6, 7, 8, 9])\n",
    "\n",
    "# 홀수 data 추출\n",
    "arr_odd = np.array([1, 3, 5, 7, 9])\n",
    "\n",
    "arr[arr_odd]"
   ]
  },
  {
   "cell_type": "code",
   "execution_count": 32,
   "metadata": {},
   "outputs": [
    {
     "data": {
      "text/plain": [
       "array([ 0, -1,  2, -1,  4, -1,  6, -1,  8, -1])"
      ]
     },
     "execution_count": 32,
     "metadata": {},
     "output_type": "execute_result"
    }
   ],
   "source": [
    "# 3. 1차원 배열인 arr에서 홀수 원소값을 -1로 변경하여 출력하시오\n",
    "\n",
    "# Console Output\n",
    "# ---------------------------------------------\n",
    "# array([ 0, -1,  2, -1,  4, -1,  6, -1,  8, -1])\n",
    "\n",
    "# input data\n",
    "arr = np.array([0, 1, 2, 3, 4, 5, 6, 7, 8, 9])\n",
    "\n",
    "# 홀수 원소값을 -1로 변경\n",
    "arr_out = np.where(arr % 2 == 1, -1, arr)\n",
    "arr_out"
   ]
  },
  {
   "cell_type": "code",
   "execution_count": 33,
   "metadata": {},
   "outputs": [
    {
     "data": {
      "text/plain": [
       "array([[0, 1, 2, 3, 4],\n",
       "       [5, 6, 7, 8, 9]])"
      ]
     },
     "execution_count": 33,
     "metadata": {},
     "output_type": "execute_result"
    }
   ],
   "source": [
    "# 4. 1차원 배열 (원소가 0 ~ 9의 값)을 2차원 배열 (2,5)로 변환하여 출력하시오\n",
    "\n",
    "# Console Output\n",
    "# ---------------------------------------------\n",
    "# array([[0, 1, 2, 3, 4],\n",
    "#       [5, 6, 7, 8, 9]])\n",
    "\n",
    "# input data\n",
    "arr = np.array([0, 1, 2, 3, 4, 5, 6, 7, 8, 9])\n",
    "\n",
    "# 2차원 배열로 변경\n",
    "arr_out = arr.reshape(2, 5)\n",
    "arr_out"
   ]
  },
  {
   "cell_type": "code",
   "execution_count": 40,
   "metadata": {},
   "outputs": [
    {
     "data": {
      "text/plain": [
       "array([[0, 1, 2, 3, 4],\n",
       "       [5, 6, 7, 8, 9],\n",
       "       [1, 1, 1, 1, 1],\n",
       "       [1, 1, 1, 1, 1]])"
      ]
     },
     "execution_count": 40,
     "metadata": {},
     "output_type": "execute_result"
    }
   ],
   "source": [
    "# 5. 2개의 배열 a, b를 vertically 합쳐 출력하시오\n",
    "\n",
    "# Console Output\n",
    "# ---------------------------------------------\n",
    "# array([[0, 1, 2, 3, 4],\n",
    "#        [5, 6, 7, 8, 9],\n",
    "#        [1, 1, 1, 1, 1],\n",
    "#        [1, 1, 1, 1, 1]])\n",
    "\n",
    "# input data\n",
    "a = np.arange(10).reshape(2,5)\n",
    "b = np.repeat(1, 10).reshape(2,5)\n",
    "\n",
    "# a, b를 vertically 합침\n",
    "arr_out = np.vstack((a, b))\n",
    "arr_out"
   ]
  },
  {
   "cell_type": "code",
   "execution_count": 41,
   "metadata": {},
   "outputs": [
    {
     "data": {
      "text/plain": [
       "array([[0, 1, 2, 3, 4, 1, 1, 1, 1, 1],\n",
       "       [5, 6, 7, 8, 9, 1, 1, 1, 1, 1]])"
      ]
     },
     "execution_count": 41,
     "metadata": {},
     "output_type": "execute_result"
    }
   ],
   "source": [
    "# 5. 2개의 배열 a, b를 horizontally 합쳐 출력하시오\n",
    "\n",
    "# Console Output\n",
    "# ---------------------------------------------\n",
    "# array([[0, 1, 2, 3, 4, 1, 1, 1, 1, 1],\n",
    "#        [5, 6, 7, 8, 9, 1, 1, 1, 1, 1]])\n",
    "\n",
    "# input data\n",
    "a = np.arange(10).reshape(2,5)\n",
    "b = np.repeat(1, 10).reshape(2,5)\n",
    "\n",
    "# a, b를 horizontally 합침\n",
    "arr_out = np.hstack((a, b))\n",
    "arr_out"
   ]
  },
  {
   "cell_type": "code",
   "execution_count": 48,
   "metadata": {},
   "outputs": [
    {
     "data": {
      "text/plain": [
       "array([[3, 4, 5],\n",
       "       [0, 1, 2],\n",
       "       [6, 7, 8]])"
      ]
     },
     "execution_count": 48,
     "metadata": {},
     "output_type": "execute_result"
    }
   ],
   "source": [
    "# 6. 2차원 배열에서 첫번째 행과 두번째 행의 순서를 바꿔 출력하시오\n",
    "\n",
    "# Console Output\n",
    "# ---------------------------------------------\n",
    "# array([[3, 4, 5],\n",
    "#        [0, 1, 2],\n",
    "#        [6, 7, 8]])\n",
    "\n",
    "# input data\n",
    "arr = np.arange(9).reshape(3,3)\n",
    "\n",
    "# 2차원 배열에서 첫번째 행과 두번째 행의 순서를 바꿈\n",
    "arr_out = arr[[1,0,2]]\n",
    "arr_out"
   ]
  },
  {
   "cell_type": "code",
   "execution_count": 44,
   "metadata": {},
   "outputs": [
    {
     "data": {
      "text/plain": [
       "array([[6, 7, 8],\n",
       "       [3, 4, 5],\n",
       "       [0, 1, 2]])"
      ]
     },
     "execution_count": 44,
     "metadata": {},
     "output_type": "execute_result"
    }
   ],
   "source": [
    "# 7. 2차원 배열에서 행 전체 순서를 reverse로 바꿔 출력하시오\n",
    "\n",
    "# Console Output\n",
    "# ---------------------------------------------\n",
    "# array([[6, 7, 8],\n",
    "#        [3, 4, 5],\n",
    "#        [0, 1, 2]])\n",
    "\n",
    "# input data\n",
    "arr = np.arange(9).reshape(3,3)\n",
    "\n",
    "# 2차원 배열에서 행 전체 순서를 reverse로 바꿈\n",
    "arr_out = arr[::-1]\n",
    "arr_out"
   ]
  },
  {
   "cell_type": "code",
   "execution_count": 46,
   "metadata": {},
   "outputs": [
    {
     "data": {
      "text/plain": [
       "array([[2, 1, 0],\n",
       "       [5, 4, 3],\n",
       "       [8, 7, 6]])"
      ]
     },
     "execution_count": 46,
     "metadata": {},
     "output_type": "execute_result"
    }
   ],
   "source": [
    "# 8. 2차원 배열에서 column 전체 순서를 reverse로 바꿔 출력하시오\n",
    "\n",
    "# Console Output\n",
    "# ---------------------------------------------\n",
    "# array([[2, 1, 0],\n",
    "#        [5, 4, 3],\n",
    "#        [8, 7, 6]])\n",
    "\n",
    "# input data\n",
    "arr = np.arange(9).reshape(3,3)\n",
    "\n",
    "# 2차원 배열에서 column 전체 순서를 reverse로 바꿈\n",
    "arr_out = arr[:, ::-1]\n",
    "arr_out"
   ]
  },
  {
   "cell_type": "code",
   "execution_count": null,
   "metadata": {},
   "outputs": [],
   "source": []
  }
 ],
 "metadata": {
  "kernelspec": {
   "display_name": "Python 3",
   "language": "python",
   "name": "python3"
  },
  "language_info": {
   "codemirror_mode": {
    "name": "ipython",
    "version": 3
   },
   "file_extension": ".py",
   "mimetype": "text/x-python",
   "name": "python",
   "nbconvert_exporter": "python",
   "pygments_lexer": "ipython3",
   "version": "3.8.5"
  }
 },
 "nbformat": 4,
 "nbformat_minor": 2
}
