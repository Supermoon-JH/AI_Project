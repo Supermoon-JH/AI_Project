{
 "cells": [
  {
   "cell_type": "code",
   "execution_count": 1,
   "metadata": {},
   "outputs": [],
   "source": [
    "# pandas 사용하기\n",
    "import numpy as np # numpy 도 함께 import\n",
    "import pandas as pd"
   ]
  },
  {
   "cell_type": "code",
   "execution_count": 3,
   "metadata": {},
   "outputs": [
    {
     "name": "stdout",
     "output_type": "stream",
     "text": [
      "0    4\n",
      "1    7\n",
      "2   -5\n",
      "3    3\n",
      "dtype: int64\n"
     ]
    }
   ],
   "source": [
    "# 2. Pandas 자료구조\n",
    "# 2-1. Series\n",
    "# Series 정의하기\n",
    "obj = pd.Series([4, 7, -5, 3]) # [4, 7, -5, 3] => list data type\n",
    "print(obj)"
   ]
  },
  {
   "cell_type": "code",
   "execution_count": 4,
   "metadata": {},
   "outputs": [
    {
     "name": "stdout",
     "output_type": "stream",
     "text": [
      "[ 4  7 -5  3]\n"
     ]
    }
   ],
   "source": [
    "# Series의 값만 확인하기\n",
    "print(obj.values)"
   ]
  },
  {
   "cell_type": "code",
   "execution_count": 5,
   "metadata": {},
   "outputs": [
    {
     "name": "stdout",
     "output_type": "stream",
     "text": [
      "RangeIndex(start=0, stop=4, step=1)\n"
     ]
    }
   ],
   "source": [
    "# Series의 index만 확인하기\n",
    "print(obj.index)\n",
    "# stop=4라는 의미 : index가 3까지 있다라는 의미, (4는 index로 포함안됨)"
   ]
  },
  {
   "cell_type": "code",
   "execution_count": 6,
   "metadata": {},
   "outputs": [
    {
     "data": {
      "text/plain": [
       "dtype('int64')"
      ]
     },
     "execution_count": 6,
     "metadata": {},
     "output_type": "execute_result"
    }
   ],
   "source": [
    "# Series의 원소 자료형 확인하기\n",
    "obj.dtypes"
   ]
  },
  {
   "cell_type": "code",
   "execution_count": 6,
   "metadata": {},
   "outputs": [
    {
     "data": {
      "text/plain": [
       "d    4\n",
       "b    7\n",
       "a   -5\n",
       "c    3\n",
       "dtype: int64"
      ]
     },
     "execution_count": 6,
     "metadata": {},
     "output_type": "execute_result"
    }
   ],
   "source": [
    "# 기본 인덱스를 바꿔 생성할 수 있다.\n",
    "obj2 = pd.Series([4, 7, -5, 3], index=['d', 'b', 'a', 'c'])\n",
    "obj2"
   ]
  },
  {
   "cell_type": "code",
   "execution_count": 7,
   "metadata": {},
   "outputs": [
    {
     "name": "stdout",
     "output_type": "stream",
     "text": [
      "Kim        35000\n",
      "Beomwoo    67000\n",
      "Joan       12000\n",
      "Choi        4000\n",
      "dtype: int64\n"
     ]
    }
   ],
   "source": [
    "# python의 dictionary 자료형을 Series data로 만들 수 있다.\n",
    "# dictionary의 key가 Series의 index가 된다\n",
    "sdata = {'Kim': 35000, 'Beomwoo': 67000, 'Joan': 12000, 'Choi': 4000}\n",
    "obj3 = pd.Series(sdata)\n",
    "print(obj3)"
   ]
  },
  {
   "cell_type": "code",
   "execution_count": 8,
   "metadata": {},
   "outputs": [
    {
     "name": "stdout",
     "output_type": "stream",
     "text": [
      "Names\n",
      "Kim        35000\n",
      "Beomwoo    67000\n",
      "Joan       12000\n",
      "Choi        4000\n",
      "Name: Salary, dtype: int64\n"
     ]
    }
   ],
   "source": [
    "# series 객체의 이름과 index 이름을 지정할 수 있다\n",
    "obj3.name = 'Salary'\n",
    "obj3.index.name = \"Names\"\n",
    "print(obj3)"
   ]
  },
  {
   "cell_type": "code",
   "execution_count": 9,
   "metadata": {},
   "outputs": [
    {
     "name": "stdout",
     "output_type": "stream",
     "text": [
      "A    35000\n",
      "B    67000\n",
      "C    12000\n",
      "D     4000\n",
      "Name: Salary, dtype: int64\n"
     ]
    }
   ],
   "source": [
    "# index 변경 가능하다\n",
    "obj3.index = ['A', 'B', 'C', 'D']\n",
    "print(obj3)"
   ]
  },
  {
   "cell_type": "code",
   "execution_count": 10,
   "metadata": {},
   "outputs": [
    {
     "name": "stdout",
     "output_type": "stream",
     "text": [
      "      name  year  points\n",
      "0  Beomwoo  2013     1.5\n",
      "1  Beomwoo  2014     1.7\n",
      "2  Beomwoo  2015     3.6\n",
      "3      Kim  2016     2.4\n",
      "4     Park  2015     2.9\n"
     ]
    }
   ],
   "source": [
    "# 2-2. Data Frame\n",
    "# Data Frame 정의하기\n",
    "# 이전에 DataFrame에 들어갈 데이터를 정의해주어야 하는데,\n",
    "# 이는 python의 dictionary 또는 numpy의 array로 정의할 수 있다.\n",
    "data = {'name': ['Beomwoo', 'Beomwoo', 'Beomwoo', 'Kim', 'Park'],\n",
    "        'year': [2013, 2014, 2015, 2016, 2015],\n",
    "        'points': [1.5, 1.7, 3.6, 2.4, 2.9]}\n",
    "df = pd.DataFrame(data)\n",
    "# 행과 열의 구조를 가진 데이터가 생기는 것을 확인할 수 있다\n",
    "print(df)"
   ]
  },
  {
   "cell_type": "code",
   "execution_count": 11,
   "metadata": {},
   "outputs": [
    {
     "data": {
      "text/plain": [
       "RangeIndex(start=0, stop=5, step=1)"
      ]
     },
     "execution_count": 11,
     "metadata": {},
     "output_type": "execute_result"
    }
   ],
   "source": [
    "# 행 방향의 index\n",
    "df.index"
   ]
  },
  {
   "cell_type": "code",
   "execution_count": 12,
   "metadata": {},
   "outputs": [
    {
     "data": {
      "text/plain": [
       "Index(['name', 'year', 'points'], dtype='object')"
      ]
     },
     "execution_count": 12,
     "metadata": {},
     "output_type": "execute_result"
    }
   ],
   "source": [
    "# 열 방향의 index\n",
    "df.columns"
   ]
  },
  {
   "cell_type": "code",
   "execution_count": 13,
   "metadata": {},
   "outputs": [
    {
     "data": {
      "text/plain": [
       "array([['Beomwoo', 2013, 1.5],\n",
       "       ['Beomwoo', 2014, 1.7],\n",
       "       ['Beomwoo', 2015, 3.6],\n",
       "       ['Kim', 2016, 2.4],\n",
       "       ['Park', 2015, 2.9]], dtype=object)"
      ]
     },
     "execution_count": 13,
     "metadata": {},
     "output_type": "execute_result"
    }
   ],
   "source": [
    "# 값 얻기 (numpy의 2차원 array 형태로 출력)\n",
    "df.values"
   ]
  },
  {
   "cell_type": "code",
   "execution_count": 14,
   "metadata": {},
   "outputs": [
    {
     "name": "stdout",
     "output_type": "stream",
     "text": [
      "Info     name  year  points\n",
      "Num                        \n",
      "0     Beomwoo  2013     1.5\n",
      "1     Beomwoo  2014     1.7\n",
      "2     Beomwoo  2015     3.6\n",
      "3         Kim  2016     2.4\n",
      "4        Park  2015     2.9\n"
     ]
    }
   ],
   "source": [
    "# 인덱스와 column에 대한 이름 설정하기\n",
    "df.index.name = 'Num'\n",
    "df.columns.name = 'Info'\n",
    "print(df)"
   ]
  },
  {
   "cell_type": "code",
   "execution_count": 15,
   "metadata": {},
   "outputs": [
    {
     "name": "stdout",
     "output_type": "stream",
     "text": [
      "       year     name  points penalty\n",
      "one    2013  Beomwoo     1.5     NaN\n",
      "two    2014  Beomwoo     1.7     NaN\n",
      "three  2015  Beomwoo     3.6     NaN\n",
      "four   2016      Kim     2.4     NaN\n",
      "five   2015     Park     2.9     NaN\n"
     ]
    }
   ],
   "source": [
    "# DataFrame을 만들면서 columns와 index를 설정할 수 있다.\n",
    "df2 = pd.DataFrame(data, columns=['year', 'name', 'points', 'penalty'],\n",
    "                  index=['one', 'two', 'three', 'four', 'five'])\n",
    "# 1. data에 penalty라는 column이 없는데, df2 출력할 때 는 penalty column에 NaN 보여줌\n",
    "# 2. NaN(Not a Number) 의미 : null과 같은 개념으로 값이 없다는 의미임\n",
    "# 3. NaN은 나중에 df2의 연산 수행할 때 처리가 되지 않아, \n",
    "#    올바른 데이터 처리를 위해 다른 값으로 변환시켜야 함\n",
    "print(df2)"
   ]
  },
  {
   "cell_type": "code",
   "execution_count": 16,
   "metadata": {},
   "outputs": [
    {
     "name": "stdout",
     "output_type": "stream",
     "text": [
      "              year    points\n",
      "count     5.000000  5.000000\n",
      "mean   2014.600000  2.420000\n",
      "std       1.140175  0.864292\n",
      "min    2013.000000  1.500000\n",
      "25%    2014.000000  1.700000\n",
      "50%    2015.000000  2.400000\n",
      "75%    2015.000000  2.900000\n",
      "max    2016.000000  3.600000\n"
     ]
    }
   ],
   "source": [
    "# describe() 함수는 DataFrame의 계산 가능한 값들에 대한 다양한 계산 값을 보여준다.\n",
    "# 1. DataFrame객체인 df2의 column중 number 속성을 갖는 column에 대하여\n",
    "#    count, min, mean, std등의 정보 제공\n",
    "print(df2.describe())"
   ]
  },
  {
   "cell_type": "code",
   "execution_count": 16,
   "metadata": {},
   "outputs": [
    {
     "name": "stdout",
     "output_type": "stream",
     "text": [
      "       year    names  points penalty\n",
      "one    2014    Kilho     1.5     NaN\n",
      "two    2015    Kilho     1.7     NaN\n",
      "three  2016    Kilho     3.6     NaN\n",
      "four   2015  Charles     2.4     NaN\n",
      "five   2016  Charles     2.9     NaN\n"
     ]
    }
   ],
   "source": [
    "# 3. DataFrame Indexing\n",
    "data = {\"names\": [\"Kilho\", \"Kilho\", \"Kilho\", \"Charles\", \"Charles\"],\n",
    "           \"year\": [2014, 2015, 2016, 2015, 2016],\n",
    "           \"points\": [1.5, 1.7, 3.6, 2.4, 2.9]}\n",
    "df = pd.DataFrame(data, columns=[\"year\", \"names\", \"points\", \"penalty\"],\n",
    "                          index=[\"one\", \"two\", \"three\", \"four\", \"five\"])\n",
    "print(df)"
   ]
  },
  {
   "cell_type": "code",
   "execution_count": 17,
   "metadata": {},
   "outputs": [
    {
     "data": {
      "text/plain": [
       "one      2014\n",
       "two      2015\n",
       "three    2016\n",
       "four     2015\n",
       "five     2016\n",
       "Name: year, dtype: int64"
      ]
     },
     "execution_count": 17,
     "metadata": {},
     "output_type": "execute_result"
    }
   ],
   "source": [
    "# 3-1. DataFrame에서 열을 선택하고 조작하기\n",
    "df['year']"
   ]
  },
  {
   "cell_type": "code",
   "execution_count": 18,
   "metadata": {},
   "outputs": [
    {
     "data": {
      "text/plain": [
       "one      2014\n",
       "two      2015\n",
       "three    2016\n",
       "four     2015\n",
       "five     2016\n",
       "Name: year, dtype: int64"
      ]
     },
     "execution_count": 18,
     "metadata": {},
     "output_type": "execute_result"
    }
   ],
   "source": [
    "# 동일한 의미를 갖는, 다른 방법\n",
    "df.year"
   ]
  },
  {
   "cell_type": "code",
   "execution_count": 19,
   "metadata": {},
   "outputs": [
    {
     "data": {
      "text/html": [
       "<div>\n",
       "<style scoped>\n",
       "    .dataframe tbody tr th:only-of-type {\n",
       "        vertical-align: middle;\n",
       "    }\n",
       "\n",
       "    .dataframe tbody tr th {\n",
       "        vertical-align: top;\n",
       "    }\n",
       "\n",
       "    .dataframe thead th {\n",
       "        text-align: right;\n",
       "    }\n",
       "</style>\n",
       "<table border=\"1\" class=\"dataframe\">\n",
       "  <thead>\n",
       "    <tr style=\"text-align: right;\">\n",
       "      <th></th>\n",
       "      <th>year</th>\n",
       "      <th>points</th>\n",
       "    </tr>\n",
       "  </thead>\n",
       "  <tbody>\n",
       "    <tr>\n",
       "      <td>one</td>\n",
       "      <td>2014</td>\n",
       "      <td>1.5</td>\n",
       "    </tr>\n",
       "    <tr>\n",
       "      <td>two</td>\n",
       "      <td>2015</td>\n",
       "      <td>1.7</td>\n",
       "    </tr>\n",
       "    <tr>\n",
       "      <td>three</td>\n",
       "      <td>2016</td>\n",
       "      <td>3.6</td>\n",
       "    </tr>\n",
       "    <tr>\n",
       "      <td>four</td>\n",
       "      <td>2015</td>\n",
       "      <td>2.4</td>\n",
       "    </tr>\n",
       "    <tr>\n",
       "      <td>five</td>\n",
       "      <td>2016</td>\n",
       "      <td>2.9</td>\n",
       "    </tr>\n",
       "  </tbody>\n",
       "</table>\n",
       "</div>"
      ],
      "text/plain": [
       "       year  points\n",
       "one    2014     1.5\n",
       "two    2015     1.7\n",
       "three  2016     3.6\n",
       "four   2015     2.4\n",
       "five   2016     2.9"
      ]
     },
     "execution_count": 19,
     "metadata": {},
     "output_type": "execute_result"
    }
   ],
   "source": [
    "df[['year','points']]"
   ]
  },
  {
   "cell_type": "code",
   "execution_count": 20,
   "metadata": {},
   "outputs": [
    {
     "name": "stdout",
     "output_type": "stream",
     "text": [
      "       year    names  points  penalty\n",
      "one    2014    Kilho     1.5      0.5\n",
      "two    2015    Kilho     1.7      0.5\n",
      "three  2016    Kilho     3.6      0.5\n",
      "four   2015  Charles     2.4      0.5\n",
      "five   2016  Charles     2.9      0.5\n"
     ]
    }
   ],
   "source": [
    "# 특정 열에 대해 위와 같이 선택하고, 우리가 원하는 값을 대입할 수 있다.\n",
    "df['penalty'] = 0.5\n",
    "print(df)"
   ]
  },
  {
   "cell_type": "code",
   "execution_count": 21,
   "metadata": {},
   "outputs": [
    {
     "name": "stdout",
     "output_type": "stream",
     "text": [
      "       year    names  points  penalty\n",
      "one    2014    Kilho     1.5      0.1\n",
      "two    2015    Kilho     1.7      0.2\n",
      "three  2016    Kilho     3.6      0.3\n",
      "four   2015  Charles     2.4      0.4\n",
      "five   2016  Charles     2.9      0.5\n"
     ]
    }
   ],
   "source": [
    "# 또는\n",
    "df['penalty'] = [0.1, 0.2, 0.3, 0.4, 0.5] # python의 List나 numpy의 array\n",
    "print(df)"
   ]
  },
  {
   "cell_type": "code",
   "execution_count": 22,
   "metadata": {},
   "outputs": [
    {
     "name": "stdout",
     "output_type": "stream",
     "text": [
      "       year    names  points  penalty  zeros\n",
      "one    2014    Kilho     1.5      0.1      0\n",
      "two    2015    Kilho     1.7      0.2      1\n",
      "three  2016    Kilho     3.6      0.3      2\n",
      "four   2015  Charles     2.4      0.4      3\n",
      "five   2016  Charles     2.9      0.5      4\n"
     ]
    }
   ],
   "source": [
    "# 새로운 열을 추가하기\n",
    "# df['zeros'] = [0,1,2,3,4]와 동일한 의미\n",
    "df['zeros'] = np.arange(5) # [0,1,2,3,4]\n",
    "print(df)"
   ]
  },
  {
   "cell_type": "code",
   "execution_count": 23,
   "metadata": {},
   "outputs": [
    {
     "name": "stdout",
     "output_type": "stream",
     "text": [
      "       year    names  points  penalty  zeros  debt\n",
      "one    2014    Kilho     1.5      0.1      0   NaN\n",
      "two    2015    Kilho     1.7      0.2      1  -1.2\n",
      "three  2016    Kilho     3.6      0.3      2   NaN\n",
      "four   2015  Charles     2.4      0.4      3  -1.5\n",
      "five   2016  Charles     2.9      0.5      4  -1.7\n"
     ]
    }
   ],
   "source": [
    "# Series를 사용하여 column을 추가할 수도 있다.\n",
    "val = pd.Series([-1.2, -1.5, -1.7], index=['two','four','five'])\n",
    "# debt column에 val값이 들어갈 때 해당 index에 맞춰 들어감\n",
    "df['debt'] = val\n",
    "print(df)"
   ]
  },
  {
   "cell_type": "code",
   "execution_count": 24,
   "metadata": {},
   "outputs": [
    {
     "name": "stdout",
     "output_type": "stream",
     "text": [
      "       year    names  points  penalty  zeros  debt  net_points  high_points\n",
      "one    2014    Kilho     1.5      0.1      0   NaN         1.4        False\n",
      "two    2015    Kilho     1.7      0.2      1  -1.2         1.5        False\n",
      "three  2016    Kilho     3.6      0.3      2   NaN         3.3         True\n",
      "four   2015  Charles     2.4      0.4      3  -1.5         2.0        False\n",
      "five   2016  Charles     2.9      0.5      4  -1.7         2.4         True\n"
     ]
    }
   ],
   "source": [
    "# 새로운 column을 기존 column 연산을 수행하여 생성 가능\n",
    "df['net_points'] = df['points'] - df['penalty']\n",
    "df['high_points'] = df['net_points'] > 2.0\n",
    "print(df)"
   ]
  },
  {
   "cell_type": "code",
   "execution_count": 25,
   "metadata": {},
   "outputs": [
    {
     "name": "stdout",
     "output_type": "stream",
     "text": [
      "       year    names  points  penalty  debt\n",
      "one    2014    Kilho     1.5      0.1   NaN\n",
      "two    2015    Kilho     1.7      0.2  -1.2\n",
      "three  2016    Kilho     3.6      0.3   NaN\n",
      "four   2015  Charles     2.4      0.4  -1.5\n",
      "five   2016  Charles     2.9      0.5  -1.7\n"
     ]
    }
   ],
   "source": [
    "# 열 삭제하기\n",
    "del df['high_points']\n",
    "del df['net_points']\n",
    "del df['zeros']\n",
    "print(df)"
   ]
  },
  {
   "cell_type": "code",
   "execution_count": 26,
   "metadata": {},
   "outputs": [
    {
     "data": {
      "text/plain": [
       "Index(['year', 'names', 'points', 'penalty', 'debt'], dtype='object')"
      ]
     },
     "execution_count": 26,
     "metadata": {},
     "output_type": "execute_result"
    }
   ],
   "source": [
    "df.columns"
   ]
  },
  {
   "cell_type": "code",
   "execution_count": 27,
   "metadata": {},
   "outputs": [
    {
     "name": "stdout",
     "output_type": "stream",
     "text": [
      "Info   year    names  points  penalty  debt\n",
      "Order                                      \n",
      "one    2014    Kilho     1.5      0.1   NaN\n",
      "two    2015    Kilho     1.7      0.2  -1.2\n",
      "three  2016    Kilho     3.6      0.3   NaN\n",
      "four   2015  Charles     2.4      0.4  -1.5\n",
      "five   2016  Charles     2.9      0.5  -1.7\n"
     ]
    }
   ],
   "source": [
    "df.index.name = 'Order'\n",
    "df.columns.name = 'Info'\n",
    "print(df)"
   ]
  },
  {
   "cell_type": "code",
   "execution_count": 29,
   "metadata": {},
   "outputs": [
    {
     "name": "stdout",
     "output_type": "stream",
     "text": [
      "Info   year  names  points  penalty  debt\n",
      "Order                                    \n",
      "one    2014  Kilho     1.5      0.1   NaN\n",
      "two    2015  Kilho     1.7      0.2  -1.2\n",
      "three  2016  Kilho     3.6      0.3   NaN\n"
     ]
    }
   ],
   "source": [
    "# 3-2. DataFrame에서 행을 선택하고 조작하기\n",
    "# 1번째(index=0) 부터 3번째(index=2)까지 가져온다.\n",
    "# 뒤에 써준 숫자번째의 행은 뺀다.\n",
    "print(df[0:3])"
   ]
  },
  {
   "cell_type": "code",
   "execution_count": 28,
   "metadata": {},
   "outputs": [
    {
     "name": "stdout",
     "output_type": "stream",
     "text": [
      "Info   year    names  points  penalty  debt\n",
      "Order                                      \n",
      "two    2015    Kilho     1.7      0.2  -1.2\n",
      "three  2016    Kilho     3.6      0.3   NaN\n",
      "four   2015  Charles     2.4      0.4  -1.5\n"
     ]
    }
   ],
   "source": [
    "# two라는 행부터 four라는 행까지 가져온다.\n",
    "# 뒤에 써준 이름의 행을 빼지 않는다.\n",
    "print(df['two':'four']) # 하지만 비추천!"
   ]
  },
  {
   "cell_type": "code",
   "execution_count": 31,
   "metadata": {},
   "outputs": [
    {
     "name": "stdout",
     "output_type": "stream",
     "text": [
      "Info\n",
      "year        2015\n",
      "names      Kilho\n",
      "points       1.7\n",
      "penalty      0.2\n",
      "debt        -1.2\n",
      "Name: two, dtype: object\n"
     ]
    }
   ],
   "source": [
    "# 아래 방법을 권장한다. \n",
    "# .loc 또는 .iloc 함수를 사용하는 방법. (loc : location(위치)의 약어)\n",
    "print(df.loc['two']) # 반환 형태는 Series"
   ]
  },
  {
   "cell_type": "code",
   "execution_count": 32,
   "metadata": {},
   "outputs": [
    {
     "name": "stdout",
     "output_type": "stream",
     "text": [
      "Info   year    names  points  penalty  debt\n",
      "Order                                      \n",
      "two    2015    Kilho     1.7      0.2  -1.2\n",
      "three  2016    Kilho     3.6      0.3   NaN\n",
      "four   2015  Charles     2.4      0.4  -1.5\n"
     ]
    }
   ],
   "source": [
    "print(df.loc['two':'four'])"
   ]
  },
  {
   "cell_type": "code",
   "execution_count": 33,
   "metadata": {},
   "outputs": [
    {
     "name": "stdout",
     "output_type": "stream",
     "text": [
      "Order\n",
      "two      1.7\n",
      "three    3.6\n",
      "four     2.4\n",
      "Name: points, dtype: float64\n"
     ]
    }
   ],
   "source": [
    "# df.loc[row, column]\n",
    "print(df.loc['two':'four', 'points'])"
   ]
  },
  {
   "cell_type": "code",
   "execution_count": 34,
   "metadata": {},
   "outputs": [
    {
     "name": "stdout",
     "output_type": "stream",
     "text": [
      "Order\n",
      "one      2014\n",
      "two      2015\n",
      "three    2016\n",
      "four     2015\n",
      "five     2016\n",
      "Name: year, dtype: int64\n"
     ]
    }
   ],
   "source": [
    "print(df.loc[:,'year']) # == df['year']"
   ]
  },
  {
   "cell_type": "code",
   "execution_count": 36,
   "metadata": {},
   "outputs": [
    {
     "name": "stdout",
     "output_type": "stream",
     "text": [
      "Info   year    names\n",
      "Order               \n",
      "one    2014    Kilho\n",
      "two    2015    Kilho\n",
      "three  2016    Kilho\n",
      "four   2015  Charles\n",
      "five   2016  Charles\n"
     ]
    }
   ],
   "source": [
    "print(df.loc[:,['year','names']])"
   ]
  },
  {
   "cell_type": "code",
   "execution_count": 37,
   "metadata": {},
   "outputs": [
    {
     "name": "stdout",
     "output_type": "stream",
     "text": [
      "Info   year    names  points  penalty\n",
      "Order                                \n",
      "three  2016    Kilho     3.6      0.3\n",
      "four   2015  Charles     2.4      0.4\n",
      "five   2016  Charles     2.9      0.5\n"
     ]
    }
   ],
   "source": [
    "print(df.loc['three':'five','year':'penalty'])"
   ]
  },
  {
   "cell_type": "code",
   "execution_count": 38,
   "metadata": {},
   "outputs": [
    {
     "name": "stdout",
     "output_type": "stream",
     "text": [
      "Info     year    names  points  penalty  debt\n",
      "Order                                        \n",
      "one    2014.0    Kilho     1.5      0.1   NaN\n",
      "two    2015.0    Kilho     1.7      0.2  -1.2\n",
      "three  2016.0    Kilho     3.6      0.3   NaN\n",
      "four   2015.0  Charles     2.4      0.4  -1.5\n",
      "five   2016.0  Charles     2.9      0.5  -1.7\n",
      "six    2013.0      Jun     4.0      0.1   2.1\n"
     ]
    }
   ],
   "source": [
    "# 새로운 행 삽입하기\n",
    "df.loc['six',:] = [2013,'Jun',4.0,0.1,2.1]\n",
    "print(df)"
   ]
  },
  {
   "cell_type": "code",
   "execution_count": 39,
   "metadata": {},
   "outputs": [
    {
     "name": "stdout",
     "output_type": "stream",
     "text": [
      "Info\n",
      "year          2015\n",
      "names      Charles\n",
      "points         2.4\n",
      "penalty        0.4\n",
      "debt          -1.5\n",
      "Name: four, dtype: object\n"
     ]
    }
   ],
   "source": [
    "# .iloc(index location) 사용:: index 번호를 사용한다.\n",
    "print(df.iloc[3]) # 4번째 행(index=3)을 가져온다."
   ]
  },
  {
   "cell_type": "code",
   "execution_count": 40,
   "metadata": {},
   "outputs": [
    {
     "name": "stdout",
     "output_type": "stream",
     "text": [
      "Info     year    names\n",
      "Order                 \n",
      "four   2015.0  Charles\n",
      "five   2016.0  Charles\n"
     ]
    }
   ],
   "source": [
    "print(df.iloc[3:5, 0:2])"
   ]
  },
  {
   "cell_type": "code",
   "execution_count": 41,
   "metadata": {},
   "outputs": [
    {
     "name": "stdout",
     "output_type": "stream",
     "text": [
      "Info     names  points\n",
      "Order                 \n",
      "one      Kilho     1.5\n",
      "two      Kilho     1.7\n",
      "four   Charles     2.4\n"
     ]
    }
   ],
   "source": [
    "print(df.iloc[[0,1,3], [1,2]])"
   ]
  },
  {
   "cell_type": "code",
   "execution_count": 42,
   "metadata": {},
   "outputs": [
    {
     "name": "stdout",
     "output_type": "stream",
     "text": [
      "Info     names  points  penalty\n",
      "Order                          \n",
      "one      Kilho     1.5      0.1\n",
      "two      Kilho     1.7      0.2\n",
      "three    Kilho     3.6      0.3\n",
      "four   Charles     2.4      0.4\n",
      "five   Charles     2.9      0.5\n",
      "six        Jun     4.0      0.1\n"
     ]
    }
   ],
   "source": [
    "print(df.iloc[:,1:4])"
   ]
  },
  {
   "cell_type": "code",
   "execution_count": 43,
   "metadata": {},
   "outputs": [
    {
     "name": "stdout",
     "output_type": "stream",
     "text": [
      "Kilho\n"
     ]
    }
   ],
   "source": [
    "print(df.iloc[1,1])"
   ]
  },
  {
   "cell_type": "code",
   "execution_count": 29,
   "metadata": {},
   "outputs": [
    {
     "name": "stdout",
     "output_type": "stream",
     "text": [
      "Info   year    names  points  penalty  debt\n",
      "Order                                      \n",
      "one    2014    Kilho     1.5      0.1   NaN\n",
      "two    2015    Kilho     1.7      0.2  -1.2\n",
      "three  2016    Kilho     3.6      0.3   NaN\n",
      "four   2015  Charles     2.4      0.4  -1.5\n",
      "five   2016  Charles     2.9      0.5  -1.7\n"
     ]
    }
   ],
   "source": [
    "# 4. DataFrame에서의 boolean Indexing\n",
    "print(df)"
   ]
  },
  {
   "cell_type": "code",
   "execution_count": 30,
   "metadata": {},
   "outputs": [
    {
     "name": "stdout",
     "output_type": "stream",
     "text": [
      "Order\n",
      "one      False\n",
      "two       True\n",
      "three     True\n",
      "four      True\n",
      "five      True\n",
      "Name: year, dtype: bool\n"
     ]
    }
   ],
   "source": [
    "# year가 2014보다 큰 boolean data\n",
    "print(df['year'] > 2014)"
   ]
  },
  {
   "cell_type": "code",
   "execution_count": 31,
   "metadata": {},
   "outputs": [
    {
     "name": "stdout",
     "output_type": "stream",
     "text": [
      "Info   year    names  points  penalty  debt\n",
      "Order                                      \n",
      "two    2015    Kilho     1.7      0.2  -1.2\n",
      "three  2016    Kilho     3.6      0.3   NaN\n",
      "four   2015  Charles     2.4      0.4  -1.5\n",
      "five   2016  Charles     2.9      0.5  -1.7\n"
     ]
    }
   ],
   "source": [
    "# year가 2014보다 큰 모든 행의 값\n",
    "print(df.loc[df['year']>2014,:])"
   ]
  },
  {
   "cell_type": "code",
   "execution_count": 32,
   "metadata": {},
   "outputs": [
    {
     "name": "stdout",
     "output_type": "stream",
     "text": [
      "Info   names  points\n",
      "Order               \n",
      "one    Kilho     1.5\n",
      "two    Kilho     1.7\n",
      "three  Kilho     3.6\n"
     ]
    }
   ],
   "source": [
    "print(df.loc[df['names'] == 'Kilho',['names','points']])"
   ]
  },
  {
   "cell_type": "code",
   "execution_count": 33,
   "metadata": {},
   "outputs": [
    {
     "name": "stdout",
     "output_type": "stream",
     "text": [
      "Info   year    names  points  penalty  debt\n",
      "Order                                      \n",
      "four   2015  Charles     2.4      0.4  -1.5\n",
      "five   2016  Charles     2.9      0.5  -1.7\n"
     ]
    }
   ],
   "source": [
    "# numpy에서와 같이 논리연산을 응용할 수 있다.\n",
    "print(df.loc[(df['points']>2)&(df['points']<3),:])"
   ]
  },
  {
   "cell_type": "code",
   "execution_count": 34,
   "metadata": {},
   "outputs": [
    {
     "name": "stdout",
     "output_type": "stream",
     "text": [
      "Info   year    names  points  penalty  debt\n",
      "Order                                      \n",
      "one    2014    Kilho     1.5      0.1   NaN\n",
      "two    2015    Kilho     1.7      0.2  -1.2\n",
      "three  2016    Kilho     3.6      0.0   NaN\n",
      "four   2015  Charles     2.4      0.4  -1.5\n",
      "five   2016  Charles     2.9      0.5  -1.7\n"
     ]
    }
   ],
   "source": [
    "# 새로운 값을 대입할 수도 있다.\n",
    "df.loc[df['points'] > 3, 'penalty'] = 0\n",
    "print(df)"
   ]
  },
  {
   "cell_type": "code",
   "execution_count": 35,
   "metadata": {},
   "outputs": [
    {
     "name": "stdout",
     "output_type": "stream",
     "text": [
      "          0         1         2         3\n",
      "0 -0.637644  0.240396  0.572835  0.790000\n",
      "1 -0.291952  0.494574  0.424441 -0.231522\n",
      "2  0.805147 -0.464319 -0.187026 -0.016858\n",
      "3  0.485668 -0.949158  2.495520  2.814839\n",
      "4  1.514288  1.237998 -0.397501 -1.531157\n",
      "5  1.364585  0.512689  0.890525  1.789149\n"
     ]
    }
   ],
   "source": [
    "# 5. Data 처리 함수\n",
    "# DataFrame을 만들때 index, column을 설정하지 않으면 기본값으로 0부터 시작하는 정수형 숫자로 입력된다.\n",
    "df = pd.DataFrame(np.random.randn(6,4))\n",
    "print(df)"
   ]
  },
  {
   "cell_type": "code",
   "execution_count": 36,
   "metadata": {},
   "outputs": [
    {
     "name": "stdout",
     "output_type": "stream",
     "text": [
      "DatetimeIndex(['2016-07-01', '2016-07-02', '2016-07-03', '2016-07-04',\n",
      "               '2016-07-05', '2016-07-06'],\n",
      "              dtype='datetime64[ns]', freq='D')\n"
     ]
    }
   ],
   "source": [
    "df.columns = ['A', 'B', 'C', 'D']\n",
    "# 1. pandas에서 제공하는 date range함수는 datetime 자료형으로 구성된, \n",
    "#   날짜 시각등을 알 수 있는 자료형을 만드는 함수\n",
    "df.index = pd.date_range('20160701', periods=6)\n",
    "print(df.index)"
   ]
  },
  {
   "cell_type": "code",
   "execution_count": 37,
   "metadata": {},
   "outputs": [
    {
     "name": "stdout",
     "output_type": "stream",
     "text": [
      "                   A         B         C         D\n",
      "2016-07-01 -0.637644  0.240396  0.572835  0.790000\n",
      "2016-07-02 -0.291952  0.494574  0.424441 -0.231522\n",
      "2016-07-03  0.805147 -0.464319 -0.187026 -0.016858\n",
      "2016-07-04  0.485668 -0.949158  2.495520  2.814839\n",
      "2016-07-05  1.514288  1.237998 -0.397501 -1.531157\n",
      "2016-07-06  1.364585  0.512689  0.890525  1.789149\n"
     ]
    }
   ],
   "source": [
    "print(df)"
   ]
  },
  {
   "cell_type": "code",
   "execution_count": 38,
   "metadata": {},
   "outputs": [
    {
     "name": "stdout",
     "output_type": "stream",
     "text": [
      "                   A         B         C         D    F\n",
      "2016-07-01 -0.637644  0.240396  0.572835  0.790000  1.0\n",
      "2016-07-02 -0.291952  0.494574  0.424441 -0.231522  NaN\n",
      "2016-07-03  0.805147 -0.464319 -0.187026 -0.016858  3.5\n",
      "2016-07-04  0.485668 -0.949158  2.495520  2.814839  6.1\n",
      "2016-07-05  1.514288  1.237998 -0.397501 -1.531157  NaN\n",
      "2016-07-06  1.364585  0.512689  0.890525  1.789149  7.0\n"
     ]
    }
   ],
   "source": [
    "# np.nan은 NaN값을 의미한다.\n",
    "# 'F' column 새로 추가\n",
    "df['F'] = [1.0, np.nan, 3.5, 6.1, np.nan, 7.0]\n",
    "print(df)"
   ]
  },
  {
   "cell_type": "code",
   "execution_count": 39,
   "metadata": {},
   "outputs": [
    {
     "name": "stdout",
     "output_type": "stream",
     "text": [
      "                   A         B         C         D    F\n",
      "2016-07-01 -0.637644  0.240396  0.572835  0.790000  1.0\n",
      "2016-07-03  0.805147 -0.464319 -0.187026 -0.016858  3.5\n",
      "2016-07-04  0.485668 -0.949158  2.495520  2.814839  6.1\n",
      "2016-07-06  1.364585  0.512689  0.890525  1.789149  7.0\n"
     ]
    }
   ],
   "source": [
    "# NaN 없애기 : dropna 함수 사용\n",
    "# how='any' => 행의 값중 하나라도 nan인 경우 그 행을 없앤다.\n",
    "print(df.dropna(how='any'))"
   ]
  },
  {
   "cell_type": "code",
   "execution_count": 41,
   "metadata": {},
   "outputs": [
    {
     "name": "stdout",
     "output_type": "stream",
     "text": [
      "                   A         B         C         D    F\n",
      "2016-07-01 -0.637644  0.240396  0.572835  0.790000  1.0\n",
      "2016-07-02 -0.291952  0.494574  0.424441 -0.231522  NaN\n",
      "2016-07-03  0.805147 -0.464319 -0.187026 -0.016858  3.5\n",
      "2016-07-04  0.485668 -0.949158  2.495520  2.814839  6.1\n",
      "2016-07-05  1.514288  1.237998 -0.397501 -1.531157  NaN\n",
      "2016-07-06  1.364585  0.512689  0.890525  1.789149  7.0\n"
     ]
    }
   ],
   "source": [
    "# how='all' => 행의 모든 값이 nan인 경우 그 행을 없앤다.\n",
    "print(df.dropna(how='all'))\n",
    "# drop함수 사용시 주의 사항\n",
    "# 1. drop함수는 특정 행 또는 열을 drop하고난 DataFrame을 return한다.\n",
    "# 2. 즉, return된 dataFrame을 다른 변수로 받지 않으면 기존의 DataFrame은 그대로이다.\n",
    "# 3. 아니면, inplace=True라는 argument를 drop함수에 추가하여, 반환을 받지 않고서도\n",
    "#    기존의 DataFrame이 변경되도록 한다."
   ]
  },
  {
   "cell_type": "code",
   "execution_count": 42,
   "metadata": {},
   "outputs": [
    {
     "name": "stdout",
     "output_type": "stream",
     "text": [
      "                   A         B         C         D    F\n",
      "2016-07-01 -0.637644  0.240396  0.572835  0.790000  1.0\n",
      "2016-07-02 -0.291952  0.494574  0.424441 -0.231522  0.5\n",
      "2016-07-03  0.805147 -0.464319 -0.187026 -0.016858  3.5\n",
      "2016-07-04  0.485668 -0.949158  2.495520  2.814839  6.1\n",
      "2016-07-05  1.514288  1.237998 -0.397501 -1.531157  0.5\n",
      "2016-07-06  1.364585  0.512689  0.890525  1.789149  7.0\n"
     ]
    }
   ],
   "source": [
    "# fillna => nan값에 값 넣기\n",
    "print(df.fillna(value=0.5))"
   ]
  },
  {
   "cell_type": "code",
   "execution_count": 43,
   "metadata": {},
   "outputs": [
    {
     "name": "stdout",
     "output_type": "stream",
     "text": [
      "                A      B      C      D      F\n",
      "2016-07-01  False  False  False  False  False\n",
      "2016-07-02  False  False  False  False   True\n",
      "2016-07-03  False  False  False  False  False\n",
      "2016-07-04  False  False  False  False  False\n",
      "2016-07-05  False  False  False  False   True\n",
      "2016-07-06  False  False  False  False  False\n"
     ]
    }
   ],
   "source": [
    "# nan값인지 확인하기 => NaN값이면 isnull() return값이 True\n",
    "print(df.isnull())"
   ]
  },
  {
   "cell_type": "code",
   "execution_count": 58,
   "metadata": {},
   "outputs": [
    {
     "name": "stdout",
     "output_type": "stream",
     "text": [
      "                   A         B         C         D   F\n",
      "2016-07-02  0.138896  1.508043 -0.044458  0.435650 NaN\n",
      "2016-07-05  0.250331 -1.356299 -2.177627 -0.410708 NaN\n"
     ]
    }
   ],
   "source": [
    "# F열에서 nan값을 포함하는 행만 추출하기\n",
    "print(df.loc[df.isnull()['F'],:])"
   ]
  },
  {
   "cell_type": "code",
   "execution_count": 44,
   "metadata": {},
   "outputs": [
    {
     "data": {
      "text/plain": [
       "Timestamp('2016-07-01 00:00:00')"
      ]
     },
     "execution_count": 44,
     "metadata": {},
     "output_type": "execute_result"
    }
   ],
   "source": [
    "pd.to_datetime('20160701')"
   ]
  },
  {
   "cell_type": "code",
   "execution_count": 45,
   "metadata": {},
   "outputs": [
    {
     "name": "stdout",
     "output_type": "stream",
     "text": [
      "                   A         B         C         D    F\n",
      "2016-07-02 -0.291952  0.494574  0.424441 -0.231522  NaN\n",
      "2016-07-03  0.805147 -0.464319 -0.187026 -0.016858  3.5\n",
      "2016-07-04  0.485668 -0.949158  2.495520  2.814839  6.1\n",
      "2016-07-05  1.514288  1.237998 -0.397501 -1.531157  NaN\n",
      "2016-07-06  1.364585  0.512689  0.890525  1.789149  7.0\n"
     ]
    }
   ],
   "source": [
    "# 특정 행 drop하기\n",
    "print(df.drop(pd.to_datetime('20160701')))"
   ]
  },
  {
   "cell_type": "code",
   "execution_count": 46,
   "metadata": {},
   "outputs": [
    {
     "name": "stdout",
     "output_type": "stream",
     "text": [
      "                   A         B         C         D    F\n",
      "2016-07-01 -0.637644  0.240396  0.572835  0.790000  1.0\n",
      "2016-07-03  0.805147 -0.464319 -0.187026 -0.016858  3.5\n",
      "2016-07-05  1.514288  1.237998 -0.397501 -1.531157  NaN\n",
      "2016-07-06  1.364585  0.512689  0.890525  1.789149  7.0\n"
     ]
    }
   ],
   "source": [
    "# 2개 이상도 drop 가능\n",
    "print(df.drop([pd.to_datetime('20160702'),pd.to_datetime('20160704')]))"
   ]
  },
  {
   "cell_type": "code",
   "execution_count": 47,
   "metadata": {},
   "outputs": [
    {
     "name": "stdout",
     "output_type": "stream",
     "text": [
      "                   A         B         C         D\n",
      "2016-07-01 -0.637644  0.240396  0.572835  0.790000\n",
      "2016-07-02 -0.291952  0.494574  0.424441 -0.231522\n",
      "2016-07-03  0.805147 -0.464319 -0.187026 -0.016858\n",
      "2016-07-04  0.485668 -0.949158  2.495520  2.814839\n",
      "2016-07-05  1.514288  1.237998 -0.397501 -1.531157\n",
      "2016-07-06  1.364585  0.512689  0.890525  1.789149\n"
     ]
    }
   ],
   "source": [
    "# 특정 열 삭제하기\n",
    "print(df.drop('F', axis = 1))"
   ]
  },
  {
   "cell_type": "code",
   "execution_count": 48,
   "metadata": {},
   "outputs": [
    {
     "data": {
      "text/html": [
       "<div>\n",
       "<style scoped>\n",
       "    .dataframe tbody tr th:only-of-type {\n",
       "        vertical-align: middle;\n",
       "    }\n",
       "\n",
       "    .dataframe tbody tr th {\n",
       "        vertical-align: top;\n",
       "    }\n",
       "\n",
       "    .dataframe thead th {\n",
       "        text-align: right;\n",
       "    }\n",
       "</style>\n",
       "<table border=\"1\" class=\"dataframe\">\n",
       "  <thead>\n",
       "    <tr style=\"text-align: right;\">\n",
       "      <th></th>\n",
       "      <th>A</th>\n",
       "      <th>C</th>\n",
       "      <th>F</th>\n",
       "    </tr>\n",
       "  </thead>\n",
       "  <tbody>\n",
       "    <tr>\n",
       "      <td>2016-07-01</td>\n",
       "      <td>-0.637644</td>\n",
       "      <td>0.572835</td>\n",
       "      <td>1.0</td>\n",
       "    </tr>\n",
       "    <tr>\n",
       "      <td>2016-07-02</td>\n",
       "      <td>-0.291952</td>\n",
       "      <td>0.424441</td>\n",
       "      <td>NaN</td>\n",
       "    </tr>\n",
       "    <tr>\n",
       "      <td>2016-07-03</td>\n",
       "      <td>0.805147</td>\n",
       "      <td>-0.187026</td>\n",
       "      <td>3.5</td>\n",
       "    </tr>\n",
       "    <tr>\n",
       "      <td>2016-07-04</td>\n",
       "      <td>0.485668</td>\n",
       "      <td>2.495520</td>\n",
       "      <td>6.1</td>\n",
       "    </tr>\n",
       "    <tr>\n",
       "      <td>2016-07-05</td>\n",
       "      <td>1.514288</td>\n",
       "      <td>-0.397501</td>\n",
       "      <td>NaN</td>\n",
       "    </tr>\n",
       "    <tr>\n",
       "      <td>2016-07-06</td>\n",
       "      <td>1.364585</td>\n",
       "      <td>0.890525</td>\n",
       "      <td>7.0</td>\n",
       "    </tr>\n",
       "  </tbody>\n",
       "</table>\n",
       "</div>"
      ],
      "text/plain": [
       "                   A         C    F\n",
       "2016-07-01 -0.637644  0.572835  1.0\n",
       "2016-07-02 -0.291952  0.424441  NaN\n",
       "2016-07-03  0.805147 -0.187026  3.5\n",
       "2016-07-04  0.485668  2.495520  6.1\n",
       "2016-07-05  1.514288 -0.397501  NaN\n",
       "2016-07-06  1.364585  0.890525  7.0"
      ]
     },
     "execution_count": 48,
     "metadata": {},
     "output_type": "execute_result"
    }
   ],
   "source": [
    "# 2개 이상의 열도 가능\n",
    "df.drop(['B','D'], axis = 1)"
   ]
  },
  {
   "cell_type": "code",
   "execution_count": 53,
   "metadata": {},
   "outputs": [
    {
     "data": {
      "text/html": [
       "<div>\n",
       "<style scoped>\n",
       "    .dataframe tbody tr th:only-of-type {\n",
       "        vertical-align: middle;\n",
       "    }\n",
       "\n",
       "    .dataframe tbody tr th {\n",
       "        vertical-align: top;\n",
       "    }\n",
       "\n",
       "    .dataframe thead th {\n",
       "        text-align: right;\n",
       "    }\n",
       "</style>\n",
       "<table border=\"1\" class=\"dataframe\">\n",
       "  <thead>\n",
       "    <tr style=\"text-align: right;\">\n",
       "      <th></th>\n",
       "      <th>one</th>\n",
       "      <th>two</th>\n",
       "    </tr>\n",
       "  </thead>\n",
       "  <tbody>\n",
       "    <tr>\n",
       "      <td>a</td>\n",
       "      <td>1.40</td>\n",
       "      <td>NaN</td>\n",
       "    </tr>\n",
       "    <tr>\n",
       "      <td>b</td>\n",
       "      <td>7.10</td>\n",
       "      <td>-4.5</td>\n",
       "    </tr>\n",
       "    <tr>\n",
       "      <td>c</td>\n",
       "      <td>NaN</td>\n",
       "      <td>NaN</td>\n",
       "    </tr>\n",
       "    <tr>\n",
       "      <td>d</td>\n",
       "      <td>0.75</td>\n",
       "      <td>-1.3</td>\n",
       "    </tr>\n",
       "  </tbody>\n",
       "</table>\n",
       "</div>"
      ],
      "text/plain": [
       "    one  two\n",
       "a  1.40  NaN\n",
       "b  7.10 -4.5\n",
       "c   NaN  NaN\n",
       "d  0.75 -1.3"
      ]
     },
     "execution_count": 53,
     "metadata": {},
     "output_type": "execute_result"
    }
   ],
   "source": [
    "# 6. Data 분석용 함수들\n",
    "data = [[1.4, np.nan],\n",
    "           [7.1, -4.5],\n",
    "        [np.nan, np.nan],\n",
    "        [0.75, -1.3]]\n",
    "df = pd.DataFrame(data, columns=[\"one\", \"two\"], index=[\"a\", \"b\", \"c\", \"d\"])\n",
    "df"
   ]
  },
  {
   "cell_type": "code",
   "execution_count": 50,
   "metadata": {},
   "outputs": [
    {
     "data": {
      "text/plain": [
       "one    9.25\n",
       "two   -5.80\n",
       "dtype: float64"
      ]
     },
     "execution_count": 50,
     "metadata": {},
     "output_type": "execute_result"
    }
   ],
   "source": [
    "# 행방향으로의 합(즉, 각 열의 합)\n",
    "# 합계 계산시 NaN을 제외하고 계산\n",
    "df.sum(axis=0)"
   ]
  },
  {
   "cell_type": "code",
   "execution_count": 66,
   "metadata": {},
   "outputs": [
    {
     "data": {
      "text/plain": [
       "a    1.40\n",
       "b    2.60\n",
       "c    0.00\n",
       "d   -0.55\n",
       "dtype: float64"
      ]
     },
     "execution_count": 66,
     "metadata": {},
     "output_type": "execute_result"
    }
   ],
   "source": [
    "# 열방향으로의 합(즉, 각 행의 합)\n",
    "df.sum(axis=1)"
   ]
  },
  {
   "cell_type": "code",
   "execution_count": 67,
   "metadata": {},
   "outputs": [
    {
     "data": {
      "text/plain": [
       "a     NaN\n",
       "b    2.60\n",
       "c     NaN\n",
       "d   -0.55\n",
       "dtype: float64"
      ]
     },
     "execution_count": 67,
     "metadata": {},
     "output_type": "execute_result"
    }
   ],
   "source": [
    "# 열방향 합계 계산시 skipna=False를 주면, NaN도 포함하여 계산\n",
    "df.sum(axis=1, skipna=False)"
   ]
  },
  {
   "cell_type": "code",
   "execution_count": 68,
   "metadata": {},
   "outputs": [
    {
     "data": {
      "text/plain": [
       "9.25"
      ]
     },
     "execution_count": 68,
     "metadata": {},
     "output_type": "execute_result"
    }
   ],
   "source": [
    "# 특정 행 또는 특정 열에서만 계산하기\n",
    "df['one'].sum()"
   ]
  },
  {
   "cell_type": "code",
   "execution_count": 51,
   "metadata": {},
   "outputs": [
    {
     "data": {
      "text/plain": [
       "2.5999999999999996"
      ]
     },
     "execution_count": 51,
     "metadata": {},
     "output_type": "execute_result"
    }
   ],
   "source": [
    "df.loc['b'].sum()"
   ]
  },
  {
   "cell_type": "code",
   "execution_count": 70,
   "metadata": {},
   "outputs": [],
   "source": [
    "# pandas에서 DataFrame에 적용되는 함수들\n",
    "# 1. sum() : 전체 성분의 합을 계산\n",
    "# 2. count() : 전체 성분의 (NaN이 아닌) 값의 갯수를 계산\n",
    "# 3. min(), max() : 전체 성분의 최솟, 최댓값을 계산\n",
    "# 4. argmin, argmax : 전체 성분의 최솟값, 최댓값이 위치한 (정수)인덱스를 반환\n",
    "# 5. idxmin, idxmax : 전체 인덱스 중 최솟값, 최댓값을 반환\n",
    "# 6. quantile : 전체 성분의 특정 사분위수에 해당하는 값을 반환 (0~1 사이)\n",
    "# 7. mean : 전체 성분의 평균을 계산\n",
    "# 8. median : 전체 성분의 중간값을 반환\n",
    "# 9. mad : 전체 성분의 평균값으로부터의 절대 편차(absolute deviation)의 평균을 계산\n",
    "# 10. std, var : 전체 성분의 표준편차, 분산을 계산\n",
    "# 11. cumsum : 맨 첫 번째 성분부터 각 성분까지의 누적합을 계산 (0에서부터 계속 더해짐)\n",
    "# 12. cumprod : 맨 첫번째 성분부터 각 성분까지의 누적곱을 계산 (1에서부터 계속 곱해짐)"
   ]
  },
  {
   "cell_type": "code",
   "execution_count": 52,
   "metadata": {},
   "outputs": [
    {
     "data": {
      "text/html": [
       "<div>\n",
       "<style scoped>\n",
       "    .dataframe tbody tr th:only-of-type {\n",
       "        vertical-align: middle;\n",
       "    }\n",
       "\n",
       "    .dataframe tbody tr th {\n",
       "        vertical-align: top;\n",
       "    }\n",
       "\n",
       "    .dataframe thead th {\n",
       "        text-align: right;\n",
       "    }\n",
       "</style>\n",
       "<table border=\"1\" class=\"dataframe\">\n",
       "  <thead>\n",
       "    <tr style=\"text-align: right;\">\n",
       "      <th></th>\n",
       "      <th>A</th>\n",
       "      <th>B</th>\n",
       "      <th>C</th>\n",
       "      <th>D</th>\n",
       "    </tr>\n",
       "  </thead>\n",
       "  <tbody>\n",
       "    <tr>\n",
       "      <td>2016-07-01</td>\n",
       "      <td>0.540525</td>\n",
       "      <td>-0.943359</td>\n",
       "      <td>0.783512</td>\n",
       "      <td>-0.567970</td>\n",
       "    </tr>\n",
       "    <tr>\n",
       "      <td>2016-07-02</td>\n",
       "      <td>0.329857</td>\n",
       "      <td>-0.083998</td>\n",
       "      <td>1.606878</td>\n",
       "      <td>-0.993760</td>\n",
       "    </tr>\n",
       "    <tr>\n",
       "      <td>2016-07-03</td>\n",
       "      <td>-0.425523</td>\n",
       "      <td>0.791017</td>\n",
       "      <td>-0.581478</td>\n",
       "      <td>0.672510</td>\n",
       "    </tr>\n",
       "    <tr>\n",
       "      <td>2016-07-04</td>\n",
       "      <td>-0.021463</td>\n",
       "      <td>0.104425</td>\n",
       "      <td>-1.076018</td>\n",
       "      <td>-0.717744</td>\n",
       "    </tr>\n",
       "    <tr>\n",
       "      <td>2016-07-05</td>\n",
       "      <td>-0.422218</td>\n",
       "      <td>-0.372540</td>\n",
       "      <td>0.123113</td>\n",
       "      <td>0.204169</td>\n",
       "    </tr>\n",
       "    <tr>\n",
       "      <td>2016-07-06</td>\n",
       "      <td>-1.339214</td>\n",
       "      <td>0.165547</td>\n",
       "      <td>-1.029701</td>\n",
       "      <td>-0.964421</td>\n",
       "    </tr>\n",
       "  </tbody>\n",
       "</table>\n",
       "</div>"
      ],
      "text/plain": [
       "                   A         B         C         D\n",
       "2016-07-01  0.540525 -0.943359  0.783512 -0.567970\n",
       "2016-07-02  0.329857 -0.083998  1.606878 -0.993760\n",
       "2016-07-03 -0.425523  0.791017 -0.581478  0.672510\n",
       "2016-07-04 -0.021463  0.104425 -1.076018 -0.717744\n",
       "2016-07-05 -0.422218 -0.372540  0.123113  0.204169\n",
       "2016-07-06 -1.339214  0.165547 -1.029701 -0.964421"
      ]
     },
     "execution_count": 52,
     "metadata": {},
     "output_type": "execute_result"
    }
   ],
   "source": [
    "df2 = pd.DataFrame(np.random.randn(6, 4),\n",
    "                   columns=[\"A\", \"B\", \"C\", \"D\"],\n",
    "                   index=pd.date_range(\"20160701\", periods=6))\n",
    "df2"
   ]
  },
  {
   "cell_type": "code",
   "execution_count": 72,
   "metadata": {},
   "outputs": [
    {
     "data": {
      "text/plain": [
       "-0.6799035123608923"
      ]
     },
     "execution_count": 72,
     "metadata": {},
     "output_type": "execute_result"
    }
   ],
   "source": [
    "# A열과 B열의 상관계수(correlation) 구하기\n",
    "df2['A'].corr(df2['B'])"
   ]
  },
  {
   "cell_type": "code",
   "execution_count": 54,
   "metadata": {},
   "outputs": [
    {
     "data": {
      "text/plain": [
       "-0.3345139606835962"
      ]
     },
     "execution_count": 54,
     "metadata": {},
     "output_type": "execute_result"
    }
   ],
   "source": [
    "# B열과 C열의 공분산(covariance) 구하기\n",
    "df2['B'].cov(df2['C'])"
   ]
  },
  {
   "cell_type": "code",
   "execution_count": 61,
   "metadata": {},
   "outputs": [
    {
     "data": {
      "text/html": [
       "<div>\n",
       "<style scoped>\n",
       "    .dataframe tbody tr th:only-of-type {\n",
       "        vertical-align: middle;\n",
       "    }\n",
       "\n",
       "    .dataframe tbody tr th {\n",
       "        vertical-align: top;\n",
       "    }\n",
       "\n",
       "    .dataframe thead th {\n",
       "        text-align: right;\n",
       "    }\n",
       "</style>\n",
       "<table border=\"1\" class=\"dataframe\">\n",
       "  <thead>\n",
       "    <tr style=\"text-align: right;\">\n",
       "      <th></th>\n",
       "      <th>D</th>\n",
       "      <th>B</th>\n",
       "      <th>C</th>\n",
       "      <th>A</th>\n",
       "    </tr>\n",
       "  </thead>\n",
       "  <tbody>\n",
       "    <tr>\n",
       "      <td>2016-07-04</td>\n",
       "      <td>-0.717744</td>\n",
       "      <td>0.104425</td>\n",
       "      <td>-1.076018</td>\n",
       "      <td>-0.021463</td>\n",
       "    </tr>\n",
       "    <tr>\n",
       "      <td>2016-07-01</td>\n",
       "      <td>-0.567970</td>\n",
       "      <td>-0.943359</td>\n",
       "      <td>0.783512</td>\n",
       "      <td>0.540525</td>\n",
       "    </tr>\n",
       "    <tr>\n",
       "      <td>2016-07-05</td>\n",
       "      <td>0.204169</td>\n",
       "      <td>-0.372540</td>\n",
       "      <td>0.123113</td>\n",
       "      <td>-0.422218</td>\n",
       "    </tr>\n",
       "    <tr>\n",
       "      <td>2016-07-06</td>\n",
       "      <td>-0.964421</td>\n",
       "      <td>0.165547</td>\n",
       "      <td>-1.029701</td>\n",
       "      <td>-1.339214</td>\n",
       "    </tr>\n",
       "    <tr>\n",
       "      <td>2016-07-02</td>\n",
       "      <td>-0.993760</td>\n",
       "      <td>-0.083998</td>\n",
       "      <td>1.606878</td>\n",
       "      <td>0.329857</td>\n",
       "    </tr>\n",
       "    <tr>\n",
       "      <td>2016-07-03</td>\n",
       "      <td>0.672510</td>\n",
       "      <td>0.791017</td>\n",
       "      <td>-0.581478</td>\n",
       "      <td>-0.425523</td>\n",
       "    </tr>\n",
       "  </tbody>\n",
       "</table>\n",
       "</div>"
      ],
      "text/plain": [
       "                   D         B         C         A\n",
       "2016-07-04 -0.717744  0.104425 -1.076018 -0.021463\n",
       "2016-07-01 -0.567970 -0.943359  0.783512  0.540525\n",
       "2016-07-05  0.204169 -0.372540  0.123113 -0.422218\n",
       "2016-07-06 -0.964421  0.165547 -1.029701 -1.339214\n",
       "2016-07-02 -0.993760 -0.083998  1.606878  0.329857\n",
       "2016-07-03  0.672510  0.791017 -0.581478 -0.425523"
      ]
     },
     "execution_count": 61,
     "metadata": {},
     "output_type": "execute_result"
    }
   ],
   "source": [
    "# 6.2 정렬함수 및 기타함수\n",
    "dates = df2.index\n",
    "# permutation => index 순서를 random(무작위)로 재정렬 시킨다는 의미\n",
    "random_dates = np.random.permutation(dates)\n",
    "# reindex : 기존 index를 수정할 떄 설정하여 사용\n",
    "df2 = df2.reindex(index=random_dates, columns=[\"D\", \"B\", \"C\", \"A\"])\n",
    "df2"
   ]
  },
  {
   "cell_type": "code",
   "execution_count": 62,
   "metadata": {},
   "outputs": [
    {
     "data": {
      "text/html": [
       "<div>\n",
       "<style scoped>\n",
       "    .dataframe tbody tr th:only-of-type {\n",
       "        vertical-align: middle;\n",
       "    }\n",
       "\n",
       "    .dataframe tbody tr th {\n",
       "        vertical-align: top;\n",
       "    }\n",
       "\n",
       "    .dataframe thead th {\n",
       "        text-align: right;\n",
       "    }\n",
       "</style>\n",
       "<table border=\"1\" class=\"dataframe\">\n",
       "  <thead>\n",
       "    <tr style=\"text-align: right;\">\n",
       "      <th></th>\n",
       "      <th>D</th>\n",
       "      <th>B</th>\n",
       "      <th>C</th>\n",
       "      <th>A</th>\n",
       "    </tr>\n",
       "  </thead>\n",
       "  <tbody>\n",
       "    <tr>\n",
       "      <td>2016-07-01</td>\n",
       "      <td>-0.567970</td>\n",
       "      <td>-0.943359</td>\n",
       "      <td>0.783512</td>\n",
       "      <td>0.540525</td>\n",
       "    </tr>\n",
       "    <tr>\n",
       "      <td>2016-07-02</td>\n",
       "      <td>-0.993760</td>\n",
       "      <td>-0.083998</td>\n",
       "      <td>1.606878</td>\n",
       "      <td>0.329857</td>\n",
       "    </tr>\n",
       "    <tr>\n",
       "      <td>2016-07-03</td>\n",
       "      <td>0.672510</td>\n",
       "      <td>0.791017</td>\n",
       "      <td>-0.581478</td>\n",
       "      <td>-0.425523</td>\n",
       "    </tr>\n",
       "    <tr>\n",
       "      <td>2016-07-04</td>\n",
       "      <td>-0.717744</td>\n",
       "      <td>0.104425</td>\n",
       "      <td>-1.076018</td>\n",
       "      <td>-0.021463</td>\n",
       "    </tr>\n",
       "    <tr>\n",
       "      <td>2016-07-05</td>\n",
       "      <td>0.204169</td>\n",
       "      <td>-0.372540</td>\n",
       "      <td>0.123113</td>\n",
       "      <td>-0.422218</td>\n",
       "    </tr>\n",
       "    <tr>\n",
       "      <td>2016-07-06</td>\n",
       "      <td>-0.964421</td>\n",
       "      <td>0.165547</td>\n",
       "      <td>-1.029701</td>\n",
       "      <td>-1.339214</td>\n",
       "    </tr>\n",
       "  </tbody>\n",
       "</table>\n",
       "</div>"
      ],
      "text/plain": [
       "                   D         B         C         A\n",
       "2016-07-01 -0.567970 -0.943359  0.783512  0.540525\n",
       "2016-07-02 -0.993760 -0.083998  1.606878  0.329857\n",
       "2016-07-03  0.672510  0.791017 -0.581478 -0.425523\n",
       "2016-07-04 -0.717744  0.104425 -1.076018 -0.021463\n",
       "2016-07-05  0.204169 -0.372540  0.123113 -0.422218\n",
       "2016-07-06 -0.964421  0.165547 -1.029701 -1.339214"
      ]
     },
     "execution_count": 62,
     "metadata": {},
     "output_type": "execute_result"
    }
   ],
   "source": [
    "# index와 column의 순서가 섞여있다.\n",
    "# 이때 index가 오름차순이 되도록 정렬해보자\n",
    "df2.sort_index(axis=0)"
   ]
  },
  {
   "cell_type": "code",
   "execution_count": 63,
   "metadata": {},
   "outputs": [
    {
     "data": {
      "text/html": [
       "<div>\n",
       "<style scoped>\n",
       "    .dataframe tbody tr th:only-of-type {\n",
       "        vertical-align: middle;\n",
       "    }\n",
       "\n",
       "    .dataframe tbody tr th {\n",
       "        vertical-align: top;\n",
       "    }\n",
       "\n",
       "    .dataframe thead th {\n",
       "        text-align: right;\n",
       "    }\n",
       "</style>\n",
       "<table border=\"1\" class=\"dataframe\">\n",
       "  <thead>\n",
       "    <tr style=\"text-align: right;\">\n",
       "      <th></th>\n",
       "      <th>A</th>\n",
       "      <th>B</th>\n",
       "      <th>C</th>\n",
       "      <th>D</th>\n",
       "    </tr>\n",
       "  </thead>\n",
       "  <tbody>\n",
       "    <tr>\n",
       "      <td>2016-07-04</td>\n",
       "      <td>-0.021463</td>\n",
       "      <td>0.104425</td>\n",
       "      <td>-1.076018</td>\n",
       "      <td>-0.717744</td>\n",
       "    </tr>\n",
       "    <tr>\n",
       "      <td>2016-07-01</td>\n",
       "      <td>0.540525</td>\n",
       "      <td>-0.943359</td>\n",
       "      <td>0.783512</td>\n",
       "      <td>-0.567970</td>\n",
       "    </tr>\n",
       "    <tr>\n",
       "      <td>2016-07-05</td>\n",
       "      <td>-0.422218</td>\n",
       "      <td>-0.372540</td>\n",
       "      <td>0.123113</td>\n",
       "      <td>0.204169</td>\n",
       "    </tr>\n",
       "    <tr>\n",
       "      <td>2016-07-06</td>\n",
       "      <td>-1.339214</td>\n",
       "      <td>0.165547</td>\n",
       "      <td>-1.029701</td>\n",
       "      <td>-0.964421</td>\n",
       "    </tr>\n",
       "    <tr>\n",
       "      <td>2016-07-02</td>\n",
       "      <td>0.329857</td>\n",
       "      <td>-0.083998</td>\n",
       "      <td>1.606878</td>\n",
       "      <td>-0.993760</td>\n",
       "    </tr>\n",
       "    <tr>\n",
       "      <td>2016-07-03</td>\n",
       "      <td>-0.425523</td>\n",
       "      <td>0.791017</td>\n",
       "      <td>-0.581478</td>\n",
       "      <td>0.672510</td>\n",
       "    </tr>\n",
       "  </tbody>\n",
       "</table>\n",
       "</div>"
      ],
      "text/plain": [
       "                   A         B         C         D\n",
       "2016-07-04 -0.021463  0.104425 -1.076018 -0.717744\n",
       "2016-07-01  0.540525 -0.943359  0.783512 -0.567970\n",
       "2016-07-05 -0.422218 -0.372540  0.123113  0.204169\n",
       "2016-07-06 -1.339214  0.165547 -1.029701 -0.964421\n",
       "2016-07-02  0.329857 -0.083998  1.606878 -0.993760\n",
       "2016-07-03 -0.425523  0.791017 -0.581478  0.672510"
      ]
     },
     "execution_count": 63,
     "metadata": {},
     "output_type": "execute_result"
    }
   ],
   "source": [
    "# column을 기준으로 정렬\n",
    "df2.sort_index(axis=1)"
   ]
  },
  {
   "cell_type": "code",
   "execution_count": 64,
   "metadata": {},
   "outputs": [
    {
     "data": {
      "text/html": [
       "<div>\n",
       "<style scoped>\n",
       "    .dataframe tbody tr th:only-of-type {\n",
       "        vertical-align: middle;\n",
       "    }\n",
       "\n",
       "    .dataframe tbody tr th {\n",
       "        vertical-align: top;\n",
       "    }\n",
       "\n",
       "    .dataframe thead th {\n",
       "        text-align: right;\n",
       "    }\n",
       "</style>\n",
       "<table border=\"1\" class=\"dataframe\">\n",
       "  <thead>\n",
       "    <tr style=\"text-align: right;\">\n",
       "      <th></th>\n",
       "      <th>D</th>\n",
       "      <th>C</th>\n",
       "      <th>B</th>\n",
       "      <th>A</th>\n",
       "    </tr>\n",
       "  </thead>\n",
       "  <tbody>\n",
       "    <tr>\n",
       "      <td>2016-07-04</td>\n",
       "      <td>-0.717744</td>\n",
       "      <td>-1.076018</td>\n",
       "      <td>0.104425</td>\n",
       "      <td>-0.021463</td>\n",
       "    </tr>\n",
       "    <tr>\n",
       "      <td>2016-07-01</td>\n",
       "      <td>-0.567970</td>\n",
       "      <td>0.783512</td>\n",
       "      <td>-0.943359</td>\n",
       "      <td>0.540525</td>\n",
       "    </tr>\n",
       "    <tr>\n",
       "      <td>2016-07-05</td>\n",
       "      <td>0.204169</td>\n",
       "      <td>0.123113</td>\n",
       "      <td>-0.372540</td>\n",
       "      <td>-0.422218</td>\n",
       "    </tr>\n",
       "    <tr>\n",
       "      <td>2016-07-06</td>\n",
       "      <td>-0.964421</td>\n",
       "      <td>-1.029701</td>\n",
       "      <td>0.165547</td>\n",
       "      <td>-1.339214</td>\n",
       "    </tr>\n",
       "    <tr>\n",
       "      <td>2016-07-02</td>\n",
       "      <td>-0.993760</td>\n",
       "      <td>1.606878</td>\n",
       "      <td>-0.083998</td>\n",
       "      <td>0.329857</td>\n",
       "    </tr>\n",
       "    <tr>\n",
       "      <td>2016-07-03</td>\n",
       "      <td>0.672510</td>\n",
       "      <td>-0.581478</td>\n",
       "      <td>0.791017</td>\n",
       "      <td>-0.425523</td>\n",
       "    </tr>\n",
       "  </tbody>\n",
       "</table>\n",
       "</div>"
      ],
      "text/plain": [
       "                   D         C         B         A\n",
       "2016-07-04 -0.717744 -1.076018  0.104425 -0.021463\n",
       "2016-07-01 -0.567970  0.783512 -0.943359  0.540525\n",
       "2016-07-05  0.204169  0.123113 -0.372540 -0.422218\n",
       "2016-07-06 -0.964421 -1.029701  0.165547 -1.339214\n",
       "2016-07-02 -0.993760  1.606878 -0.083998  0.329857\n",
       "2016-07-03  0.672510 -0.581478  0.791017 -0.425523"
      ]
     },
     "execution_count": 64,
     "metadata": {},
     "output_type": "execute_result"
    }
   ],
   "source": [
    "# 내림차순으로 sorting\n",
    "df2.sort_index(axis=1, ascending=False)"
   ]
  },
  {
   "cell_type": "code",
   "execution_count": 65,
   "metadata": {},
   "outputs": [
    {
     "data": {
      "text/html": [
       "<div>\n",
       "<style scoped>\n",
       "    .dataframe tbody tr th:only-of-type {\n",
       "        vertical-align: middle;\n",
       "    }\n",
       "\n",
       "    .dataframe tbody tr th {\n",
       "        vertical-align: top;\n",
       "    }\n",
       "\n",
       "    .dataframe thead th {\n",
       "        text-align: right;\n",
       "    }\n",
       "</style>\n",
       "<table border=\"1\" class=\"dataframe\">\n",
       "  <thead>\n",
       "    <tr style=\"text-align: right;\">\n",
       "      <th></th>\n",
       "      <th>D</th>\n",
       "      <th>B</th>\n",
       "      <th>C</th>\n",
       "      <th>A</th>\n",
       "    </tr>\n",
       "  </thead>\n",
       "  <tbody>\n",
       "    <tr>\n",
       "      <td>2016-07-02</td>\n",
       "      <td>-0.993760</td>\n",
       "      <td>-0.083998</td>\n",
       "      <td>1.606878</td>\n",
       "      <td>0.329857</td>\n",
       "    </tr>\n",
       "    <tr>\n",
       "      <td>2016-07-06</td>\n",
       "      <td>-0.964421</td>\n",
       "      <td>0.165547</td>\n",
       "      <td>-1.029701</td>\n",
       "      <td>-1.339214</td>\n",
       "    </tr>\n",
       "    <tr>\n",
       "      <td>2016-07-04</td>\n",
       "      <td>-0.717744</td>\n",
       "      <td>0.104425</td>\n",
       "      <td>-1.076018</td>\n",
       "      <td>-0.021463</td>\n",
       "    </tr>\n",
       "    <tr>\n",
       "      <td>2016-07-01</td>\n",
       "      <td>-0.567970</td>\n",
       "      <td>-0.943359</td>\n",
       "      <td>0.783512</td>\n",
       "      <td>0.540525</td>\n",
       "    </tr>\n",
       "    <tr>\n",
       "      <td>2016-07-05</td>\n",
       "      <td>0.204169</td>\n",
       "      <td>-0.372540</td>\n",
       "      <td>0.123113</td>\n",
       "      <td>-0.422218</td>\n",
       "    </tr>\n",
       "    <tr>\n",
       "      <td>2016-07-03</td>\n",
       "      <td>0.672510</td>\n",
       "      <td>0.791017</td>\n",
       "      <td>-0.581478</td>\n",
       "      <td>-0.425523</td>\n",
       "    </tr>\n",
       "  </tbody>\n",
       "</table>\n",
       "</div>"
      ],
      "text/plain": [
       "                   D         B         C         A\n",
       "2016-07-02 -0.993760 -0.083998  1.606878  0.329857\n",
       "2016-07-06 -0.964421  0.165547 -1.029701 -1.339214\n",
       "2016-07-04 -0.717744  0.104425 -1.076018 -0.021463\n",
       "2016-07-01 -0.567970 -0.943359  0.783512  0.540525\n",
       "2016-07-05  0.204169 -0.372540  0.123113 -0.422218\n",
       "2016-07-03  0.672510  0.791017 -0.581478 -0.425523"
      ]
     },
     "execution_count": 65,
     "metadata": {},
     "output_type": "execute_result"
    }
   ],
   "source": [
    "# 값 기준 정렬하기\n",
    "# D열의 값이 오름차순이 되도록 정렬하기\n",
    "df2.sort_values(by='D')"
   ]
  },
  {
   "cell_type": "code",
   "execution_count": 66,
   "metadata": {},
   "outputs": [
    {
     "data": {
      "text/html": [
       "<div>\n",
       "<style scoped>\n",
       "    .dataframe tbody tr th:only-of-type {\n",
       "        vertical-align: middle;\n",
       "    }\n",
       "\n",
       "    .dataframe tbody tr th {\n",
       "        vertical-align: top;\n",
       "    }\n",
       "\n",
       "    .dataframe thead th {\n",
       "        text-align: right;\n",
       "    }\n",
       "</style>\n",
       "<table border=\"1\" class=\"dataframe\">\n",
       "  <thead>\n",
       "    <tr style=\"text-align: right;\">\n",
       "      <th></th>\n",
       "      <th>D</th>\n",
       "      <th>B</th>\n",
       "      <th>C</th>\n",
       "      <th>A</th>\n",
       "    </tr>\n",
       "  </thead>\n",
       "  <tbody>\n",
       "    <tr>\n",
       "      <td>2016-07-03</td>\n",
       "      <td>0.672510</td>\n",
       "      <td>0.791017</td>\n",
       "      <td>-0.581478</td>\n",
       "      <td>-0.425523</td>\n",
       "    </tr>\n",
       "    <tr>\n",
       "      <td>2016-07-06</td>\n",
       "      <td>-0.964421</td>\n",
       "      <td>0.165547</td>\n",
       "      <td>-1.029701</td>\n",
       "      <td>-1.339214</td>\n",
       "    </tr>\n",
       "    <tr>\n",
       "      <td>2016-07-04</td>\n",
       "      <td>-0.717744</td>\n",
       "      <td>0.104425</td>\n",
       "      <td>-1.076018</td>\n",
       "      <td>-0.021463</td>\n",
       "    </tr>\n",
       "    <tr>\n",
       "      <td>2016-07-02</td>\n",
       "      <td>-0.993760</td>\n",
       "      <td>-0.083998</td>\n",
       "      <td>1.606878</td>\n",
       "      <td>0.329857</td>\n",
       "    </tr>\n",
       "    <tr>\n",
       "      <td>2016-07-05</td>\n",
       "      <td>0.204169</td>\n",
       "      <td>-0.372540</td>\n",
       "      <td>0.123113</td>\n",
       "      <td>-0.422218</td>\n",
       "    </tr>\n",
       "    <tr>\n",
       "      <td>2016-07-01</td>\n",
       "      <td>-0.567970</td>\n",
       "      <td>-0.943359</td>\n",
       "      <td>0.783512</td>\n",
       "      <td>0.540525</td>\n",
       "    </tr>\n",
       "  </tbody>\n",
       "</table>\n",
       "</div>"
      ],
      "text/plain": [
       "                   D         B         C         A\n",
       "2016-07-03  0.672510  0.791017 -0.581478 -0.425523\n",
       "2016-07-06 -0.964421  0.165547 -1.029701 -1.339214\n",
       "2016-07-04 -0.717744  0.104425 -1.076018 -0.021463\n",
       "2016-07-02 -0.993760 -0.083998  1.606878  0.329857\n",
       "2016-07-05  0.204169 -0.372540  0.123113 -0.422218\n",
       "2016-07-01 -0.567970 -0.943359  0.783512  0.540525"
      ]
     },
     "execution_count": 66,
     "metadata": {},
     "output_type": "execute_result"
    }
   ],
   "source": [
    "# B열의 값이 내림차순이 되도록 정렬하기\n",
    "df2.sort_values(by='B', ascending=False)"
   ]
  },
  {
   "cell_type": "code",
   "execution_count": 67,
   "metadata": {},
   "outputs": [
    {
     "data": {
      "text/html": [
       "<div>\n",
       "<style scoped>\n",
       "    .dataframe tbody tr th:only-of-type {\n",
       "        vertical-align: middle;\n",
       "    }\n",
       "\n",
       "    .dataframe tbody tr th {\n",
       "        vertical-align: top;\n",
       "    }\n",
       "\n",
       "    .dataframe thead th {\n",
       "        text-align: right;\n",
       "    }\n",
       "</style>\n",
       "<table border=\"1\" class=\"dataframe\">\n",
       "  <thead>\n",
       "    <tr style=\"text-align: right;\">\n",
       "      <th></th>\n",
       "      <th>D</th>\n",
       "      <th>B</th>\n",
       "      <th>C</th>\n",
       "      <th>A</th>\n",
       "      <th>E</th>\n",
       "      <th>F</th>\n",
       "    </tr>\n",
       "  </thead>\n",
       "  <tbody>\n",
       "    <tr>\n",
       "      <td>2016-07-04</td>\n",
       "      <td>-0.717744</td>\n",
       "      <td>0.104425</td>\n",
       "      <td>-1.076018</td>\n",
       "      <td>-0.021463</td>\n",
       "      <td>0</td>\n",
       "      <td>alpha</td>\n",
       "    </tr>\n",
       "    <tr>\n",
       "      <td>2016-07-01</td>\n",
       "      <td>-0.567970</td>\n",
       "      <td>-0.943359</td>\n",
       "      <td>0.783512</td>\n",
       "      <td>0.540525</td>\n",
       "      <td>2</td>\n",
       "      <td>beta</td>\n",
       "    </tr>\n",
       "    <tr>\n",
       "      <td>2016-07-05</td>\n",
       "      <td>0.204169</td>\n",
       "      <td>-0.372540</td>\n",
       "      <td>0.123113</td>\n",
       "      <td>-0.422218</td>\n",
       "      <td>5</td>\n",
       "      <td>gamma</td>\n",
       "    </tr>\n",
       "    <tr>\n",
       "      <td>2016-07-06</td>\n",
       "      <td>-0.964421</td>\n",
       "      <td>0.165547</td>\n",
       "      <td>-1.029701</td>\n",
       "      <td>-1.339214</td>\n",
       "      <td>2</td>\n",
       "      <td>gamma</td>\n",
       "    </tr>\n",
       "    <tr>\n",
       "      <td>2016-07-02</td>\n",
       "      <td>-0.993760</td>\n",
       "      <td>-0.083998</td>\n",
       "      <td>1.606878</td>\n",
       "      <td>0.329857</td>\n",
       "      <td>5</td>\n",
       "      <td>alpha</td>\n",
       "    </tr>\n",
       "    <tr>\n",
       "      <td>2016-07-03</td>\n",
       "      <td>0.672510</td>\n",
       "      <td>0.791017</td>\n",
       "      <td>-0.581478</td>\n",
       "      <td>-0.425523</td>\n",
       "      <td>4</td>\n",
       "      <td>gamma</td>\n",
       "    </tr>\n",
       "  </tbody>\n",
       "</table>\n",
       "</div>"
      ],
      "text/plain": [
       "                   D         B         C         A  E      F\n",
       "2016-07-04 -0.717744  0.104425 -1.076018 -0.021463  0  alpha\n",
       "2016-07-01 -0.567970 -0.943359  0.783512  0.540525  2   beta\n",
       "2016-07-05  0.204169 -0.372540  0.123113 -0.422218  5  gamma\n",
       "2016-07-06 -0.964421  0.165547 -1.029701 -1.339214  2  gamma\n",
       "2016-07-02 -0.993760 -0.083998  1.606878  0.329857  5  alpha\n",
       "2016-07-03  0.672510  0.791017 -0.581478 -0.425523  4  gamma"
      ]
     },
     "execution_count": 67,
     "metadata": {},
     "output_type": "execute_result"
    }
   ],
   "source": [
    "df2[\"E\"] = np.random.randint(0, 6, size=6)\n",
    "df2[\"F\"] = [\"alpha\", \"beta\", \"gamma\", \"gamma\", \"alpha\", \"gamma\"]\n",
    "df2"
   ]
  },
  {
   "cell_type": "code",
   "execution_count": 68,
   "metadata": {},
   "outputs": [
    {
     "data": {
      "text/html": [
       "<div>\n",
       "<style scoped>\n",
       "    .dataframe tbody tr th:only-of-type {\n",
       "        vertical-align: middle;\n",
       "    }\n",
       "\n",
       "    .dataframe tbody tr th {\n",
       "        vertical-align: top;\n",
       "    }\n",
       "\n",
       "    .dataframe thead th {\n",
       "        text-align: right;\n",
       "    }\n",
       "</style>\n",
       "<table border=\"1\" class=\"dataframe\">\n",
       "  <thead>\n",
       "    <tr style=\"text-align: right;\">\n",
       "      <th></th>\n",
       "      <th>D</th>\n",
       "      <th>B</th>\n",
       "      <th>C</th>\n",
       "      <th>A</th>\n",
       "      <th>E</th>\n",
       "      <th>F</th>\n",
       "    </tr>\n",
       "  </thead>\n",
       "  <tbody>\n",
       "    <tr>\n",
       "      <td>2016-07-04</td>\n",
       "      <td>-0.717744</td>\n",
       "      <td>0.104425</td>\n",
       "      <td>-1.076018</td>\n",
       "      <td>-0.021463</td>\n",
       "      <td>0</td>\n",
       "      <td>alpha</td>\n",
       "    </tr>\n",
       "    <tr>\n",
       "      <td>2016-07-01</td>\n",
       "      <td>-0.567970</td>\n",
       "      <td>-0.943359</td>\n",
       "      <td>0.783512</td>\n",
       "      <td>0.540525</td>\n",
       "      <td>2</td>\n",
       "      <td>beta</td>\n",
       "    </tr>\n",
       "    <tr>\n",
       "      <td>2016-07-06</td>\n",
       "      <td>-0.964421</td>\n",
       "      <td>0.165547</td>\n",
       "      <td>-1.029701</td>\n",
       "      <td>-1.339214</td>\n",
       "      <td>2</td>\n",
       "      <td>gamma</td>\n",
       "    </tr>\n",
       "    <tr>\n",
       "      <td>2016-07-03</td>\n",
       "      <td>0.672510</td>\n",
       "      <td>0.791017</td>\n",
       "      <td>-0.581478</td>\n",
       "      <td>-0.425523</td>\n",
       "      <td>4</td>\n",
       "      <td>gamma</td>\n",
       "    </tr>\n",
       "    <tr>\n",
       "      <td>2016-07-02</td>\n",
       "      <td>-0.993760</td>\n",
       "      <td>-0.083998</td>\n",
       "      <td>1.606878</td>\n",
       "      <td>0.329857</td>\n",
       "      <td>5</td>\n",
       "      <td>alpha</td>\n",
       "    </tr>\n",
       "    <tr>\n",
       "      <td>2016-07-05</td>\n",
       "      <td>0.204169</td>\n",
       "      <td>-0.372540</td>\n",
       "      <td>0.123113</td>\n",
       "      <td>-0.422218</td>\n",
       "      <td>5</td>\n",
       "      <td>gamma</td>\n",
       "    </tr>\n",
       "  </tbody>\n",
       "</table>\n",
       "</div>"
      ],
      "text/plain": [
       "                   D         B         C         A  E      F\n",
       "2016-07-04 -0.717744  0.104425 -1.076018 -0.021463  0  alpha\n",
       "2016-07-01 -0.567970 -0.943359  0.783512  0.540525  2   beta\n",
       "2016-07-06 -0.964421  0.165547 -1.029701 -1.339214  2  gamma\n",
       "2016-07-03  0.672510  0.791017 -0.581478 -0.425523  4  gamma\n",
       "2016-07-02 -0.993760 -0.083998  1.606878  0.329857  5  alpha\n",
       "2016-07-05  0.204169 -0.372540  0.123113 -0.422218  5  gamma"
      ]
     },
     "execution_count": 68,
     "metadata": {},
     "output_type": "execute_result"
    }
   ],
   "source": [
    "# E열과 F열을 동시에 고려하여, 오름차순으로 하려면?\n",
    "df2.sort_values(by=['E','F'])"
   ]
  },
  {
   "cell_type": "code",
   "execution_count": 69,
   "metadata": {},
   "outputs": [
    {
     "data": {
      "text/plain": [
       "array(['alpha', 'beta', 'gamma'], dtype=object)"
      ]
     },
     "execution_count": 69,
     "metadata": {},
     "output_type": "execute_result"
    }
   ],
   "source": [
    "# 지정한 행 또는 열에서 중복값을 제외한 유니크한 값만 얻기\n",
    "df2['F'].unique()"
   ]
  },
  {
   "cell_type": "code",
   "execution_count": 70,
   "metadata": {},
   "outputs": [
    {
     "data": {
      "text/plain": [
       "gamma    3\n",
       "alpha    2\n",
       "beta     1\n",
       "Name: F, dtype: int64"
      ]
     },
     "execution_count": 70,
     "metadata": {},
     "output_type": "execute_result"
    }
   ],
   "source": [
    "# 지정한 행 또는 열에서 값에 따른 개수 얻기\n",
    "df2['F'].value_counts()"
   ]
  },
  {
   "cell_type": "code",
   "execution_count": 71,
   "metadata": {},
   "outputs": [
    {
     "data": {
      "text/plain": [
       "2016-07-04     True\n",
       "2016-07-01     True\n",
       "2016-07-05    False\n",
       "2016-07-06    False\n",
       "2016-07-02     True\n",
       "2016-07-03    False\n",
       "Name: F, dtype: bool"
      ]
     },
     "execution_count": 71,
     "metadata": {},
     "output_type": "execute_result"
    }
   ],
   "source": [
    "# 지정한 행 또는 열에서 입력한 값이 있는지 확인하기\n",
    "df2['F'].isin(['alpha','beta'])"
   ]
  },
  {
   "cell_type": "code",
   "execution_count": 72,
   "metadata": {},
   "outputs": [
    {
     "data": {
      "text/html": [
       "<div>\n",
       "<style scoped>\n",
       "    .dataframe tbody tr th:only-of-type {\n",
       "        vertical-align: middle;\n",
       "    }\n",
       "\n",
       "    .dataframe tbody tr th {\n",
       "        vertical-align: top;\n",
       "    }\n",
       "\n",
       "    .dataframe thead th {\n",
       "        text-align: right;\n",
       "    }\n",
       "</style>\n",
       "<table border=\"1\" class=\"dataframe\">\n",
       "  <thead>\n",
       "    <tr style=\"text-align: right;\">\n",
       "      <th></th>\n",
       "      <th>D</th>\n",
       "      <th>B</th>\n",
       "      <th>C</th>\n",
       "      <th>A</th>\n",
       "      <th>E</th>\n",
       "      <th>F</th>\n",
       "    </tr>\n",
       "  </thead>\n",
       "  <tbody>\n",
       "    <tr>\n",
       "      <td>2016-07-04</td>\n",
       "      <td>-0.717744</td>\n",
       "      <td>0.104425</td>\n",
       "      <td>-1.076018</td>\n",
       "      <td>-0.021463</td>\n",
       "      <td>0</td>\n",
       "      <td>alpha</td>\n",
       "    </tr>\n",
       "    <tr>\n",
       "      <td>2016-07-01</td>\n",
       "      <td>-0.567970</td>\n",
       "      <td>-0.943359</td>\n",
       "      <td>0.783512</td>\n",
       "      <td>0.540525</td>\n",
       "      <td>2</td>\n",
       "      <td>beta</td>\n",
       "    </tr>\n",
       "    <tr>\n",
       "      <td>2016-07-02</td>\n",
       "      <td>-0.993760</td>\n",
       "      <td>-0.083998</td>\n",
       "      <td>1.606878</td>\n",
       "      <td>0.329857</td>\n",
       "      <td>5</td>\n",
       "      <td>alpha</td>\n",
       "    </tr>\n",
       "  </tbody>\n",
       "</table>\n",
       "</div>"
      ],
      "text/plain": [
       "                   D         B         C         A  E      F\n",
       "2016-07-04 -0.717744  0.104425 -1.076018 -0.021463  0  alpha\n",
       "2016-07-01 -0.567970 -0.943359  0.783512  0.540525  2   beta\n",
       "2016-07-02 -0.993760 -0.083998  1.606878  0.329857  5  alpha"
      ]
     },
     "execution_count": 72,
     "metadata": {},
     "output_type": "execute_result"
    }
   ],
   "source": [
    "# 다음과 같이 응용할 수 있다.\n",
    "# F열의 값이 alpha나 beta인 모든 행 구하기\n",
    "df2.loc[df2['F'].isin(['alpha','beta']),:]"
   ]
  },
  {
   "cell_type": "code",
   "execution_count": 73,
   "metadata": {},
   "outputs": [
    {
     "data": {
      "text/html": [
       "<div>\n",
       "<style scoped>\n",
       "    .dataframe tbody tr th:only-of-type {\n",
       "        vertical-align: middle;\n",
       "    }\n",
       "\n",
       "    .dataframe tbody tr th {\n",
       "        vertical-align: top;\n",
       "    }\n",
       "\n",
       "    .dataframe thead th {\n",
       "        text-align: right;\n",
       "    }\n",
       "</style>\n",
       "<table border=\"1\" class=\"dataframe\">\n",
       "  <thead>\n",
       "    <tr style=\"text-align: right;\">\n",
       "      <th></th>\n",
       "      <th>b</th>\n",
       "      <th>d</th>\n",
       "      <th>e</th>\n",
       "    </tr>\n",
       "  </thead>\n",
       "  <tbody>\n",
       "    <tr>\n",
       "      <td>Seoul</td>\n",
       "      <td>-0.067277</td>\n",
       "      <td>-0.150353</td>\n",
       "      <td>-0.210141</td>\n",
       "    </tr>\n",
       "    <tr>\n",
       "      <td>Incheon</td>\n",
       "      <td>0.311108</td>\n",
       "      <td>0.662847</td>\n",
       "      <td>-1.167205</td>\n",
       "    </tr>\n",
       "    <tr>\n",
       "      <td>Busan</td>\n",
       "      <td>-0.705080</td>\n",
       "      <td>0.550330</td>\n",
       "      <td>0.402121</td>\n",
       "    </tr>\n",
       "    <tr>\n",
       "      <td>Daegu</td>\n",
       "      <td>-0.325303</td>\n",
       "      <td>0.259909</td>\n",
       "      <td>-0.477571</td>\n",
       "    </tr>\n",
       "  </tbody>\n",
       "</table>\n",
       "</div>"
      ],
      "text/plain": [
       "                b         d         e\n",
       "Seoul   -0.067277 -0.150353 -0.210141\n",
       "Incheon  0.311108  0.662847 -1.167205\n",
       "Busan   -0.705080  0.550330  0.402121\n",
       "Daegu   -0.325303  0.259909 -0.477571"
      ]
     },
     "execution_count": 73,
     "metadata": {},
     "output_type": "execute_result"
    }
   ],
   "source": [
    "# 6.3 사용자가 직접 만든 함수를 적용하기\n",
    "df3 = pd.DataFrame(np.random.randn(4, 3), columns=[\"b\", \"d\", \"e\"],\n",
    "                   index=[\"Seoul\", \"Incheon\", \"Busan\", \"Daegu\"])\n",
    "df3"
   ]
  },
  {
   "cell_type": "code",
   "execution_count": 74,
   "metadata": {},
   "outputs": [
    {
     "data": {
      "text/plain": [
       "b    1.016188\n",
       "d    0.813199\n",
       "e    1.569327\n",
       "dtype: float64"
      ]
     },
     "execution_count": 74,
     "metadata": {},
     "output_type": "execute_result"
    }
   ],
   "source": [
    "# lamda 함수 선언 : parameter : 함수 body code\n",
    "# func = lambda x: x.max() - x.min()\n",
    "def func(x) :\n",
    "    return (x.max() - x.min())\n",
    "df3.apply(func, axis=0)"
   ]
  },
  {
   "cell_type": "code",
   "execution_count": null,
   "metadata": {},
   "outputs": [],
   "source": []
  }
 ],
 "metadata": {
  "kernelspec": {
   "display_name": "Python 3",
   "language": "python",
   "name": "python3"
  },
  "language_info": {
   "codemirror_mode": {
    "name": "ipython",
    "version": 3
   },
   "file_extension": ".py",
   "mimetype": "text/x-python",
   "name": "python",
   "nbconvert_exporter": "python",
   "pygments_lexer": "ipython3",
   "version": "3.7.4"
  }
 },
 "nbformat": 4,
 "nbformat_minor": 2
}
